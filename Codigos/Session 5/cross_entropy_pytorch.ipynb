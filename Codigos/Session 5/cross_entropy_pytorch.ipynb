{
  "cells": [
    {
      "cell_type": "markdown",
      "metadata": {
        "id": "qghPifXlreHT"
      },
      "source": [
        "# Understanding Onehot Encoding and Cross Entropy in PyTorch"
      ]
    },
    {
      "cell_type": "code",
      "execution_count": 1,
      "metadata": {
        "id": "HLlHieCVreHT"
      },
      "outputs": [],
      "source": [
        "import torch"
      ]
    },
    {
      "cell_type": "markdown",
      "metadata": {
        "id": "DD1e0-DQreHT"
      },
      "source": [
        "## Onehot Encoding"
      ]
    },
    {
      "cell_type": "code",
      "execution_count": 2,
      "metadata": {
        "colab": {
          "base_uri": "https://localhost:8080/"
        },
        "id": "uF3XvT4-reHT",
        "outputId": "0988cc3e-60f2-46f3-a2e3-7586b8ed85cf"
      },
      "outputs": [
        {
          "name": "stdout",
          "output_type": "stream",
          "text": [
            "one-hot encoding:\n",
            " tensor([[1., 0., 0.],\n",
            "        [0., 1., 0.],\n",
            "        [0., 0., 1.],\n",
            "        [0., 0., 1.]])\n"
          ]
        }
      ],
      "source": [
        "def to_onehot(y, num_classes):\n",
        "    y_onehot = torch.zeros(y.size(0), num_classes)\n",
        "    y_onehot.scatter_(1, y.view(-1, 1).long(), 1).float()\n",
        "    return y_onehot\n",
        "\n",
        "y = torch.tensor([0, 1, 2, 2])\n",
        "\n",
        "y_enc = to_onehot(y, 3)\n",
        "\n",
        "print('one-hot encoding:\\n', y_enc)"
      ]
    },
    {
      "cell_type": "markdown",
      "metadata": {
        "id": "sDF7Y1GareHU"
      },
      "source": [
        "## Softmax"
      ]
    },
    {
      "cell_type": "markdown",
      "metadata": {
        "id": "h8CDHGGwreHU"
      },
      "source": [
        "Suppose we have some net inputs Z, where each row is one training example:"
      ]
    },
    {
      "cell_type": "code",
      "execution_count": null,
      "metadata": {
        "colab": {
          "base_uri": "https://localhost:8080/"
        },
        "id": "Df3V2cjZreHU",
        "outputId": "db51c942-3d35-46f5-ed3c-fca3e8de602c"
      },
      "outputs": [
        {
          "data": {
            "text/plain": [
              "tensor([[-0.3000, -0.5000, -0.5000],\n",
              "        [-0.4000, -0.1000, -0.5000],\n",
              "        [-0.3000, -0.9400, -0.5000],\n",
              "        [-0.9900, -0.8800, -0.5000]])"
            ]
          },
          "execution_count": 3,
          "metadata": {},
          "output_type": "execute_result"
        }
      ],
      "source": [
        "Z = torch.tensor( [[-0.3,  -0.5, -0.5],\n",
        "                [-0.4,  -0.1, -0.5],\n",
        "                [-0.3,  -0.94, -0.5],\n",
        "                [-0.99, -0.88, -0.5]])\n",
        "\n",
        "Z"
      ]
    },
    {
      "cell_type": "markdown",
      "metadata": {
        "id": "5ff17fjtreHU"
      },
      "source": [
        "Next, we convert them to \"probabilities\" via softmax:\n",
        "\n",
        "$$P(y=j \\mid z^{(i)}) = \\sigma_{\\text{softmax}}(z^{(i)}) = \\frac{e^{z^{(i)}}}{\\sum_{j=0}^{k} e^{z_{k}^{(i)}}}.$$"
      ]
    },
    {
      "cell_type": "code",
      "execution_count": 4,
      "metadata": {
        "colab": {
          "base_uri": "https://localhost:8080/"
        },
        "id": "gAMm7PfkreHU",
        "outputId": "af0c5382-fc49-4bae-8084-ccb4c2014df1"
      },
      "outputs": [
        {
          "name": "stdout",
          "output_type": "stream",
          "text": [
            "softmax:\n",
            " tensor([[0.3792, 0.3104, 0.3104],\n",
            "        [0.3072, 0.4147, 0.2780],\n",
            "        [0.4263, 0.2248, 0.3490],\n",
            "        [0.2668, 0.2978, 0.4354]])\n"
          ]
        }
      ],
      "source": [
        "def softmax(z):\n",
        "    return (torch.exp(z.t()) / torch.sum(torch.exp(z), dim=1)).t()\n",
        "\n",
        "smax = softmax(Z)\n",
        "print('softmax:\\n', smax)"
      ]
    },
    {
      "cell_type": "markdown",
      "metadata": {
        "id": "kk4JuyiMreHV"
      },
      "source": [
        "The probabilties can then be converted back to class labels based on the largest probability in each row:"
      ]
    },
    {
      "cell_type": "code",
      "execution_count": 5,
      "metadata": {
        "colab": {
          "base_uri": "https://localhost:8080/"
        },
        "id": "61F-wCyireHV",
        "outputId": "9ad7b314-a446-4400-eb45-5ab6278191b5"
      },
      "outputs": [
        {
          "name": "stdout",
          "output_type": "stream",
          "text": [
            "predicted class labels:  tensor([0, 1, 0, 2])\n",
            "true class labels:  tensor([0, 1, 2, 2])\n"
          ]
        }
      ],
      "source": [
        "def to_classlabel(z):\n",
        "    return torch.argmax(z, dim=1)\n",
        "\n",
        "print('predicted class labels: ', to_classlabel(smax))\n",
        "print('true class labels: ', to_classlabel(y_enc))"
      ]
    },
    {
      "cell_type": "markdown",
      "metadata": {
        "id": "yZKVkz17reHV"
      },
      "source": [
        "## Cross Entropy"
      ]
    },
    {
      "cell_type": "markdown",
      "metadata": {
        "id": "MCddmaM1reHV"
      },
      "source": [
        "Next, we compute the cross entropy for each training example:"
      ]
    },
    {
      "cell_type": "markdown",
      "metadata": {
        "id": "WF6z9VbSreHV"
      },
      "source": [
        "$$\\mathcal{L}(\\mathbf{W}; \\mathbf{b}) = \\frac{1}{n} \\sum_{i=1}^{n} H(T_i, O_i),$$"
      ]
    },
    {
      "cell_type": "markdown",
      "metadata": {
        "id": "PJmMPSAGreHV"
      },
      "source": [
        "$$H(T_i, O_i) = -\\sum_m T_i \\cdot log(O_i).$$"
      ]
    },
    {
      "cell_type": "code",
      "execution_count": 6,
      "metadata": {
        "colab": {
          "base_uri": "https://localhost:8080/"
        },
        "id": "CqEzKpEfreHV",
        "outputId": "dda59d5a-e170-4705-cf60-27539d460e49",
        "scrolled": true
      },
      "outputs": [
        {
          "name": "stdout",
          "output_type": "stream",
          "text": [
            "Cross Entropy: tensor([0.9698, 0.8801, 1.0527, 0.8314])\n"
          ]
        }
      ],
      "source": [
        "def cross_entropy(softmax, y_target):\n",
        "    return - torch.sum(torch.log(softmax) * (y_target), dim=1)\n",
        "\n",
        "xent = cross_entropy(smax, y_enc)\n",
        "print('Cross Entropy:', xent)"
      ]
    },
    {
      "cell_type": "markdown",
      "metadata": {
        "id": "Bq2UKihYreHV"
      },
      "source": [
        "## In PyTorch"
      ]
    },
    {
      "cell_type": "code",
      "execution_count": 7,
      "metadata": {
        "id": "RZqE-RgyreHV"
      },
      "outputs": [],
      "source": [
        "import torch.nn.functional as F"
      ]
    },
    {
      "cell_type": "markdown",
      "metadata": {
        "id": "OTezBgNvreHW"
      },
      "source": [
        "Note that `nll_loss` takes log(softmax) as input:"
      ]
    },
    {
      "cell_type": "code",
      "execution_count": 8,
      "metadata": {
        "colab": {
          "base_uri": "https://localhost:8080/"
        },
        "id": "NPX0qHYpreHW",
        "outputId": "f70a75d4-1548-4323-befd-c5a662da33f7"
      },
      "outputs": [
        {
          "data": {
            "text/plain": [
              "tensor([0.9698, 0.8801, 1.0527, 0.8314])"
            ]
          },
          "execution_count": 8,
          "metadata": {},
          "output_type": "execute_result"
        }
      ],
      "source": [
        "F.nll_loss(torch.log(smax), y, reduction='none')"
      ]
    },
    {
      "cell_type": "markdown",
      "metadata": {
        "id": "k_B3wiMIreHW"
      },
      "source": [
        "Note that `cross_entropy` takes logits as input:"
      ]
    },
    {
      "cell_type": "code",
      "execution_count": 9,
      "metadata": {
        "colab": {
          "base_uri": "https://localhost:8080/"
        },
        "id": "jx1NPISYreHW",
        "outputId": "c7302890-cbd1-4f1a-bbd7-19e2a7901426"
      },
      "outputs": [
        {
          "data": {
            "text/plain": [
              "tensor([0.9698, 0.8801, 1.0527, 0.8314])"
            ]
          },
          "execution_count": 9,
          "metadata": {},
          "output_type": "execute_result"
        }
      ],
      "source": [
        "F.cross_entropy(Z, y, reduction='none')"
      ]
    },
    {
      "cell_type": "markdown",
      "metadata": {
        "id": "piz-GpK9reHW"
      },
      "source": [
        "### Defaults"
      ]
    },
    {
      "cell_type": "markdown",
      "metadata": {
        "id": "X39SXmyfreHW"
      },
      "source": [
        "By default, nll_loss & cross_entropy are already returning the average over training examples, which is useful for stability during optimization."
      ]
    },
    {
      "cell_type": "code",
      "execution_count": 10,
      "metadata": {
        "colab": {
          "base_uri": "https://localhost:8080/"
        },
        "id": "SHl91bIJreHW",
        "outputId": "e0e79c78-5e79-4b3d-9781-cd77dee20309"
      },
      "outputs": [
        {
          "data": {
            "text/plain": [
              "tensor(0.9335)"
            ]
          },
          "execution_count": 10,
          "metadata": {},
          "output_type": "execute_result"
        }
      ],
      "source": [
        "F.cross_entropy(Z, y)"
      ]
    },
    {
      "cell_type": "code",
      "execution_count": 11,
      "metadata": {
        "colab": {
          "base_uri": "https://localhost:8080/"
        },
        "id": "GnAQd5Q3reHW",
        "outputId": "2cb807d9-8b7d-453a-fb6d-85c3d506f728"
      },
      "outputs": [
        {
          "data": {
            "text/plain": [
              "tensor(0.9335)"
            ]
          },
          "execution_count": 11,
          "metadata": {},
          "output_type": "execute_result"
        }
      ],
      "source": [
        "torch.mean(cross_entropy(smax, y_enc))"
      ]
    }
  ],
  "metadata": {
    "colab": {
      "provenance": []
    },
    "kernelspec": {
      "display_name": "ML_2",
      "language": "python",
      "name": "python3"
    },
    "language_info": {
      "codemirror_mode": {
        "name": "ipython",
        "version": 3
      },
      "file_extension": ".py",
      "mimetype": "text/x-python",
      "name": "python",
      "nbconvert_exporter": "python",
      "pygments_lexer": "ipython3",
      "version": "3.10.16"
    },
    "toc": {
      "base_numbering": 1,
      "nav_menu": {},
      "number_sections": true,
      "sideBar": true,
      "skip_h1_title": false,
      "title_cell": "Table of Contents",
      "title_sidebar": "Contents",
      "toc_cell": false,
      "toc_position": {},
      "toc_section_display": true,
      "toc_window_display": false
    }
  },
  "nbformat": 4,
  "nbformat_minor": 0
}
