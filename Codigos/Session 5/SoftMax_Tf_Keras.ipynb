{
 "cells": [
  {
   "cell_type": "code",
   "execution_count": null,
   "id": "a8584819",
   "metadata": {},
   "outputs": [
    {
     "name": "stdout",
     "output_type": "stream",
     "text": [
      "WARNING:tensorflow:From c:\\Users\\aluca\\miniconda3\\envs\\ML_2\\lib\\site-packages\\keras\\src\\losses.py:2976: The name tf.losses.sparse_softmax_cross_entropy is deprecated. Please use tf.compat.v1.losses.sparse_softmax_cross_entropy instead.\n",
      "\n",
      "WARNING:tensorflow:From c:\\Users\\aluca\\miniconda3\\envs\\ML_2\\lib\\site-packages\\keras\\src\\backend.py:873: The name tf.get_default_graph is deprecated. Please use tf.compat.v1.get_default_graph instead.\n",
      "\n",
      "Epoch 1/25\n",
      "WARNING:tensorflow:From c:\\Users\\aluca\\miniconda3\\envs\\ML_2\\lib\\site-packages\\keras\\src\\utils\\tf_utils.py:492: The name tf.ragged.RaggedTensorValue is deprecated. Please use tf.compat.v1.ragged.RaggedTensorValue instead.\n",
      "\n",
      "WARNING:tensorflow:From c:\\Users\\aluca\\miniconda3\\envs\\ML_2\\lib\\site-packages\\keras\\src\\engine\\base_layer_utils.py:384: The name tf.executing_eagerly_outside_functions is deprecated. Please use tf.compat.v1.executing_eagerly_outside_functions instead.\n",
      "\n",
      "844/844 [==============================] - 1s 831us/step - loss: 0.5005 - accuracy: 0.8684 - val_loss: 0.3009 - val_accuracy: 0.9190\n",
      "Epoch 2/25\n",
      "844/844 [==============================] - 1s 700us/step - loss: 0.3495 - accuracy: 0.9032 - val_loss: 0.2751 - val_accuracy: 0.9258\n",
      "Epoch 3/25\n",
      "844/844 [==============================] - 1s 710us/step - loss: 0.3247 - accuracy: 0.9089 - val_loss: 0.2640 - val_accuracy: 0.9272\n",
      "Epoch 4/25\n",
      "844/844 [==============================] - 1s 720us/step - loss: 0.3117 - accuracy: 0.9126 - val_loss: 0.2550 - val_accuracy: 0.9297\n",
      "Epoch 5/25\n",
      "844/844 [==============================] - 1s 699us/step - loss: 0.3031 - accuracy: 0.9153 - val_loss: 0.2513 - val_accuracy: 0.9313\n",
      "Epoch 6/25\n",
      "844/844 [==============================] - 1s 715us/step - loss: 0.2972 - accuracy: 0.9165 - val_loss: 0.2449 - val_accuracy: 0.9327\n",
      "Epoch 7/25\n",
      "844/844 [==============================] - 1s 720us/step - loss: 0.2925 - accuracy: 0.9188 - val_loss: 0.2457 - val_accuracy: 0.9300\n",
      "Epoch 8/25\n",
      "844/844 [==============================] - 1s 705us/step - loss: 0.2885 - accuracy: 0.9190 - val_loss: 0.2415 - val_accuracy: 0.9345\n",
      "Epoch 9/25\n",
      "844/844 [==============================] - 1s 687us/step - loss: 0.2853 - accuracy: 0.9196 - val_loss: 0.2405 - val_accuracy: 0.9358\n",
      "Epoch 10/25\n",
      "844/844 [==============================] - 1s 698us/step - loss: 0.2827 - accuracy: 0.9213 - val_loss: 0.2376 - val_accuracy: 0.9363\n",
      "Epoch 11/25\n",
      "844/844 [==============================] - 1s 706us/step - loss: 0.2802 - accuracy: 0.9216 - val_loss: 0.2380 - val_accuracy: 0.9348\n",
      "Epoch 12/25\n",
      "844/844 [==============================] - 1s 691us/step - loss: 0.2784 - accuracy: 0.9225 - val_loss: 0.2354 - val_accuracy: 0.9348\n",
      "Epoch 13/25\n",
      "844/844 [==============================] - 1s 693us/step - loss: 0.2764 - accuracy: 0.9221 - val_loss: 0.2366 - val_accuracy: 0.9353\n",
      "Epoch 14/25\n",
      "844/844 [==============================] - 1s 707us/step - loss: 0.2748 - accuracy: 0.9231 - val_loss: 0.2372 - val_accuracy: 0.9360\n",
      "Epoch 15/25\n",
      "844/844 [==============================] - 1s 698us/step - loss: 0.2732 - accuracy: 0.9234 - val_loss: 0.2342 - val_accuracy: 0.9362\n",
      "Epoch 16/25\n",
      "844/844 [==============================] - 1s 682us/step - loss: 0.2722 - accuracy: 0.9242 - val_loss: 0.2360 - val_accuracy: 0.9350\n",
      "Epoch 17/25\n",
      "844/844 [==============================] - 1s 668us/step - loss: 0.2708 - accuracy: 0.9247 - val_loss: 0.2329 - val_accuracy: 0.9340\n",
      "Epoch 18/25\n",
      "844/844 [==============================] - 1s 680us/step - loss: 0.2697 - accuracy: 0.9251 - val_loss: 0.2351 - val_accuracy: 0.9360\n",
      "Epoch 19/25\n",
      "844/844 [==============================] - 1s 695us/step - loss: 0.2689 - accuracy: 0.9259 - val_loss: 0.2329 - val_accuracy: 0.9362\n",
      "Epoch 20/25\n",
      "844/844 [==============================] - 1s 680us/step - loss: 0.2676 - accuracy: 0.9258 - val_loss: 0.2313 - val_accuracy: 0.9353\n",
      "Epoch 21/25\n",
      "844/844 [==============================] - 1s 698us/step - loss: 0.2663 - accuracy: 0.9260 - val_loss: 0.2315 - val_accuracy: 0.9358\n",
      "Epoch 22/25\n",
      "844/844 [==============================] - 1s 681us/step - loss: 0.2662 - accuracy: 0.9258 - val_loss: 0.2310 - val_accuracy: 0.9353\n",
      "Epoch 23/25\n",
      "844/844 [==============================] - 1s 665us/step - loss: 0.2652 - accuracy: 0.9261 - val_loss: 0.2318 - val_accuracy: 0.9375\n",
      "Epoch 24/25\n",
      "844/844 [==============================] - 1s 675us/step - loss: 0.2644 - accuracy: 0.9270 - val_loss: 0.2331 - val_accuracy: 0.9348\n",
      "Epoch 25/25\n",
      "844/844 [==============================] - 1s 676us/step - loss: 0.2637 - accuracy: 0.9270 - val_loss: 0.2293 - val_accuracy: 0.9363\n",
      "313/313 [==============================] - 0s 570us/step - loss: 0.2685 - accuracy: 0.9244\n"
     ]
    },
    {
     "data": {
      "text/plain": [
       "[0.2684553265571594, 0.9243999719619751]"
      ]
     },
     "execution_count": 1,
     "metadata": {},
     "output_type": "execute_result"
    }
   ],
   "source": [
    "import tensorflow as tf\n",
    "from tensorflow.keras import layers, models\n",
    "\n",
    "# Cargar MNIST\n",
    "(x_train, y_train), (x_test, y_test) = tf.keras.datasets.mnist.load_data()\n",
    "\n",
    "# Preprocesar\n",
    "x_train = x_train.reshape(-1, 784) / 255.0\n",
    "x_test = x_test.reshape(-1, 784) / 255.0\n",
    "\n",
    "# Definir el modelo softmax\n",
    "model = models.Sequential([\n",
    "    layers.Dense(10, input_shape=(784,))  # capa lineal (no softmax aquí)\n",
    "])\n",
    "\n",
    "# Compilar con pérdida adecuada\n",
    "model.compile(\n",
    "    optimizer=tf.keras.optimizers.SGD(learning_rate=0.1),\n",
    "    loss=tf.keras.losses.SparseCategoricalCrossentropy(from_logits=True),\n",
    "    metrics=['accuracy']\n",
    ")\n",
    "\n",
    "# Entrenar\n",
    "model.fit(x_train, y_train, epochs=25, batch_size=64, validation_split=0.1)\n",
    "\n",
    "# Evaluar\n",
    "model.evaluate(x_test, y_test)\n"
   ]
  }
 ],
 "metadata": {
  "kernelspec": {
   "display_name": "ML_2",
   "language": "python",
   "name": "python3"
  },
  "language_info": {
   "codemirror_mode": {
    "name": "ipython",
    "version": 3
   },
   "file_extension": ".py",
   "mimetype": "text/x-python",
   "name": "python",
   "nbconvert_exporter": "python",
   "pygments_lexer": "ipython3",
   "version": "3.10.16"
  }
 },
 "nbformat": 4,
 "nbformat_minor": 5
}
