{
  "cells": [
    {
      "cell_type": "markdown",
      "id": "45840092",
      "metadata": {
        "id": "45840092"
      },
      "source": [
        "# Taller: Redes Neuronales en Series Temporales Financieras\n",
        "\n",
        "En este taller trabajaremos con datos financieros reales para aprender a usar redes neuronales en problemas de series de tiempo. Usaremos el índice S&P 500 (ETF SPY) descargado con **yfinance**, y realizaremos cuatro ejercicios de dificultad creciente:\n",
        "\n",
        "1. **Predicción univariante con Perceptrón Simple** – predecir el valor siguiente de la serie usando solo su último valor (variable temporal univariada).\n",
        "2. **Predicción univariante con Perceptrón Multicapa (MLP)** – repetir el ejercicio anterior usando una red neuronal con capa oculta para capturar posibles no linealidades.\n",
        "3. **Predicción multivariante con MLP** – incorporar múltiples variables de entrada (por ejemplo, el volumen de negociación) para predecir el siguiente valor de la serie.\n",
        "4. **Clasificación multiclase con Softmax** – clasificar el movimiento semanal de la serie como “sube”, “baja” o “estable”.\n",
        "\n",
        "Cada sección incluye explicación paso a paso y código en Python. Se asume conocimiento intermedio de Python y fundamentos de *machine learning*. ¡Comencemos!"
      ]
    },
    {
      "cell_type": "markdown",
      "source": [
        "# Preparación de los datos\n",
        "Para nuestros ejercicios usaremos datos históricos diarios del ETF SPY (que replica el S&P 500). Descargaremos datos desde 2015 hasta 2020 usando la librería yfinance. Luego, separaremos un conjunto de entrenamiento (2015-2019) y uno de prueba (2020) para evaluar las predicciones.\n",
        "\n",
        "Pasos para preparar los datos:\n",
        "\n",
        "- Instalar y cargar yfinance para descargar los precios históricos.\n",
        "- Descargar los datos de cierre diario (Close) y el volumen (Volume) de SPY.\n",
        "- Crear las variables de entrenamiento (X_train, y_train) y de prueba (X_test, y_test) según el ejercicio (univariado o multivariado).\n",
        "- Normalizar o escalar si es necesario (en este caso podemos trabajar con valores originales para simplificar, aunque en la práctica es común escalar las características)."
      ],
      "metadata": {
        "id": "N4Aq8VHpnBwm"
      },
      "id": "N4Aq8VHpnBwm"
    },
    {
      "cell_type": "markdown",
      "id": "5e5ae4e4",
      "metadata": {
        "id": "5e5ae4e4"
      },
      "source": [
        "## 1. Preparar entorno e instalar dependencias\n",
        "Ejecuta la siguiente celda para instalar las librerías necesarias."
      ]
    },
    {
      "cell_type": "code",
      "execution_count": null,
      "id": "0313dcfb",
      "metadata": {
        "colab": {
          "base_uri": "https://localhost:8080/"
        },
        "id": "0313dcfb",
        "outputId": "c651f91f-a675-4a09-a933-3316c0915178"
      },
      "outputs": [
        {
          "output_type": "stream",
          "name": "stdout",
          "text": [
            "Requirement already satisfied: yfinance in /usr/local/lib/python3.11/dist-packages (0.2.57)\n",
            "Requirement already satisfied: tensorflow in /usr/local/lib/python3.11/dist-packages (2.18.0)\n",
            "Requirement already satisfied: pandas in /usr/local/lib/python3.11/dist-packages (2.2.2)\n",
            "Requirement already satisfied: numpy in /usr/local/lib/python3.11/dist-packages (2.0.2)\n",
            "Requirement already satisfied: matplotlib in /usr/local/lib/python3.11/dist-packages (3.10.0)\n",
            "Requirement already satisfied: requests>=2.31 in /usr/local/lib/python3.11/dist-packages (from yfinance) (2.32.3)\n",
            "Requirement already satisfied: multitasking>=0.0.7 in /usr/local/lib/python3.11/dist-packages (from yfinance) (0.0.11)\n",
            "Requirement already satisfied: platformdirs>=2.0.0 in /usr/local/lib/python3.11/dist-packages (from yfinance) (4.3.7)\n",
            "Requirement already satisfied: pytz>=2022.5 in /usr/local/lib/python3.11/dist-packages (from yfinance) (2025.2)\n",
            "Requirement already satisfied: frozendict>=2.3.4 in /usr/local/lib/python3.11/dist-packages (from yfinance) (2.4.6)\n",
            "Requirement already satisfied: peewee>=3.16.2 in /usr/local/lib/python3.11/dist-packages (from yfinance) (3.18.0)\n",
            "Requirement already satisfied: beautifulsoup4>=4.11.1 in /usr/local/lib/python3.11/dist-packages (from yfinance) (4.13.4)\n",
            "Requirement already satisfied: absl-py>=1.0.0 in /usr/local/lib/python3.11/dist-packages (from tensorflow) (1.4.0)\n",
            "Requirement already satisfied: astunparse>=1.6.0 in /usr/local/lib/python3.11/dist-packages (from tensorflow) (1.6.3)\n",
            "Requirement already satisfied: flatbuffers>=24.3.25 in /usr/local/lib/python3.11/dist-packages (from tensorflow) (25.2.10)\n",
            "Requirement already satisfied: gast!=0.5.0,!=0.5.1,!=0.5.2,>=0.2.1 in /usr/local/lib/python3.11/dist-packages (from tensorflow) (0.6.0)\n",
            "Requirement already satisfied: google-pasta>=0.1.1 in /usr/local/lib/python3.11/dist-packages (from tensorflow) (0.2.0)\n",
            "Requirement already satisfied: libclang>=13.0.0 in /usr/local/lib/python3.11/dist-packages (from tensorflow) (18.1.1)\n",
            "Requirement already satisfied: opt-einsum>=2.3.2 in /usr/local/lib/python3.11/dist-packages (from tensorflow) (3.4.0)\n",
            "Requirement already satisfied: packaging in /usr/local/lib/python3.11/dist-packages (from tensorflow) (24.2)\n",
            "Requirement already satisfied: protobuf!=4.21.0,!=4.21.1,!=4.21.2,!=4.21.3,!=4.21.4,!=4.21.5,<6.0.0dev,>=3.20.3 in /usr/local/lib/python3.11/dist-packages (from tensorflow) (5.29.4)\n",
            "Requirement already satisfied: setuptools in /usr/local/lib/python3.11/dist-packages (from tensorflow) (75.2.0)\n",
            "Requirement already satisfied: six>=1.12.0 in /usr/local/lib/python3.11/dist-packages (from tensorflow) (1.17.0)\n",
            "Requirement already satisfied: termcolor>=1.1.0 in /usr/local/lib/python3.11/dist-packages (from tensorflow) (3.0.1)\n",
            "Requirement already satisfied: typing-extensions>=3.6.6 in /usr/local/lib/python3.11/dist-packages (from tensorflow) (4.13.2)\n",
            "Requirement already satisfied: wrapt>=1.11.0 in /usr/local/lib/python3.11/dist-packages (from tensorflow) (1.17.2)\n",
            "Requirement already satisfied: grpcio<2.0,>=1.24.3 in /usr/local/lib/python3.11/dist-packages (from tensorflow) (1.71.0)\n",
            "Requirement already satisfied: tensorboard<2.19,>=2.18 in /usr/local/lib/python3.11/dist-packages (from tensorflow) (2.18.0)\n",
            "Requirement already satisfied: keras>=3.5.0 in /usr/local/lib/python3.11/dist-packages (from tensorflow) (3.8.0)\n",
            "Requirement already satisfied: h5py>=3.11.0 in /usr/local/lib/python3.11/dist-packages (from tensorflow) (3.13.0)\n",
            "Requirement already satisfied: ml-dtypes<0.5.0,>=0.4.0 in /usr/local/lib/python3.11/dist-packages (from tensorflow) (0.4.1)\n",
            "Requirement already satisfied: tensorflow-io-gcs-filesystem>=0.23.1 in /usr/local/lib/python3.11/dist-packages (from tensorflow) (0.37.1)\n",
            "Requirement already satisfied: python-dateutil>=2.8.2 in /usr/local/lib/python3.11/dist-packages (from pandas) (2.9.0.post0)\n",
            "Requirement already satisfied: tzdata>=2022.7 in /usr/local/lib/python3.11/dist-packages (from pandas) (2025.2)\n",
            "Requirement already satisfied: contourpy>=1.0.1 in /usr/local/lib/python3.11/dist-packages (from matplotlib) (1.3.2)\n",
            "Requirement already satisfied: cycler>=0.10 in /usr/local/lib/python3.11/dist-packages (from matplotlib) (0.12.1)\n",
            "Requirement already satisfied: fonttools>=4.22.0 in /usr/local/lib/python3.11/dist-packages (from matplotlib) (4.57.0)\n",
            "Requirement already satisfied: kiwisolver>=1.3.1 in /usr/local/lib/python3.11/dist-packages (from matplotlib) (1.4.8)\n",
            "Requirement already satisfied: pillow>=8 in /usr/local/lib/python3.11/dist-packages (from matplotlib) (11.2.1)\n",
            "Requirement already satisfied: pyparsing>=2.3.1 in /usr/local/lib/python3.11/dist-packages (from matplotlib) (3.2.3)\n",
            "Requirement already satisfied: wheel<1.0,>=0.23.0 in /usr/local/lib/python3.11/dist-packages (from astunparse>=1.6.0->tensorflow) (0.45.1)\n",
            "Requirement already satisfied: soupsieve>1.2 in /usr/local/lib/python3.11/dist-packages (from beautifulsoup4>=4.11.1->yfinance) (2.7)\n",
            "Requirement already satisfied: rich in /usr/local/lib/python3.11/dist-packages (from keras>=3.5.0->tensorflow) (13.9.4)\n",
            "Requirement already satisfied: namex in /usr/local/lib/python3.11/dist-packages (from keras>=3.5.0->tensorflow) (0.0.9)\n",
            "Requirement already satisfied: optree in /usr/local/lib/python3.11/dist-packages (from keras>=3.5.0->tensorflow) (0.15.0)\n",
            "Requirement already satisfied: charset-normalizer<4,>=2 in /usr/local/lib/python3.11/dist-packages (from requests>=2.31->yfinance) (3.4.1)\n",
            "Requirement already satisfied: idna<4,>=2.5 in /usr/local/lib/python3.11/dist-packages (from requests>=2.31->yfinance) (3.10)\n",
            "Requirement already satisfied: urllib3<3,>=1.21.1 in /usr/local/lib/python3.11/dist-packages (from requests>=2.31->yfinance) (2.4.0)\n",
            "Requirement already satisfied: certifi>=2017.4.17 in /usr/local/lib/python3.11/dist-packages (from requests>=2.31->yfinance) (2025.4.26)\n",
            "Requirement already satisfied: markdown>=2.6.8 in /usr/local/lib/python3.11/dist-packages (from tensorboard<2.19,>=2.18->tensorflow) (3.8)\n",
            "Requirement already satisfied: tensorboard-data-server<0.8.0,>=0.7.0 in /usr/local/lib/python3.11/dist-packages (from tensorboard<2.19,>=2.18->tensorflow) (0.7.2)\n",
            "Requirement already satisfied: werkzeug>=1.0.1 in /usr/local/lib/python3.11/dist-packages (from tensorboard<2.19,>=2.18->tensorflow) (3.1.3)\n",
            "Requirement already satisfied: MarkupSafe>=2.1.1 in /usr/local/lib/python3.11/dist-packages (from werkzeug>=1.0.1->tensorboard<2.19,>=2.18->tensorflow) (3.0.2)\n",
            "Requirement already satisfied: markdown-it-py>=2.2.0 in /usr/local/lib/python3.11/dist-packages (from rich->keras>=3.5.0->tensorflow) (3.0.0)\n",
            "Requirement already satisfied: pygments<3.0.0,>=2.13.0 in /usr/local/lib/python3.11/dist-packages (from rich->keras>=3.5.0->tensorflow) (2.19.1)\n",
            "Requirement already satisfied: mdurl~=0.1 in /usr/local/lib/python3.11/dist-packages (from markdown-it-py>=2.2.0->rich->keras>=3.5.0->tensorflow) (0.1.2)\n"
          ]
        }
      ],
      "source": [
        "!pip install yfinance tensorflow pandas numpy matplotlib\n",
        "!pip install --quiet tensorflow"
      ]
    },
    {
      "cell_type": "markdown",
      "id": "9a433482",
      "metadata": {
        "id": "9a433482"
      },
      "source": [
        "## 2. Cargar librerías\n",
        "Importamos las librerías que usaremos."
      ]
    },
    {
      "cell_type": "code",
      "execution_count": null,
      "id": "f1d734b0",
      "metadata": {
        "colab": {
          "base_uri": "https://localhost:8080/"
        },
        "id": "f1d734b0",
        "outputId": "a503c974-f91b-4473-f7b2-b4780ab9927c"
      },
      "outputs": [
        {
          "output_type": "stream",
          "name": "stdout",
          "text": [
            "Librerías cargadas\n"
          ]
        }
      ],
      "source": [
        "import yfinance as yf\n",
        "import pandas as pd\n",
        "import numpy as np\n",
        "import matplotlib.pyplot as plt\n",
        "from tensorflow.keras.models import Sequential\n",
        "from tensorflow.keras.layers import Dense\n",
        "print('Librerías cargadas')"
      ]
    },
    {
      "cell_type": "markdown",
      "id": "eea34971",
      "metadata": {
        "id": "eea34971"
      },
      "source": [
        "## 3. Descargar datos financieros\n",
        "Descargamos datos diarios del ETF SPY (S&P 500) desde 2015 hasta 2020."
      ]
    },
    {
      "cell_type": "code",
      "execution_count": null,
      "id": "9342ce7e",
      "metadata": {
        "colab": {
          "base_uri": "https://localhost:8080/"
        },
        "id": "9342ce7e",
        "outputId": "8e6aedce-0d88-4639-c9dd-fbd3d0fccfd7"
      },
      "outputs": [
        {
          "output_type": "stream",
          "name": "stdout",
          "text": [
            "YF.download() has changed argument auto_adjust default to True\n"
          ]
        },
        {
          "output_type": "stream",
          "name": "stderr",
          "text": [
            "\r[*********************100%***********************]  1 of 1 completed"
          ]
        },
        {
          "output_type": "stream",
          "name": "stdout",
          "text": [
            "Datos descargados:\n",
            "Price            Close     Volume\n",
            "Ticker             SPY        SPY\n",
            "Date                             \n",
            "2015-01-02  172.075195  121465900\n",
            "2015-01-05  168.967621  169632600\n",
            "2015-01-06  167.376114  209151400\n",
            "...\n",
            " Price            Close    Volume\n",
            "Ticker             SPY       SPY\n",
            "Date                            \n",
            "2024-12-26  599.536499  41219100\n",
            "2024-12-27  593.225464  64969300\n",
            "2024-12-30  586.455811  56578800\n",
            "\n",
            "Total de registros: 2515\n"
          ]
        },
        {
          "output_type": "stream",
          "name": "stderr",
          "text": [
            "\n"
          ]
        }
      ],
      "source": [
        "# Descargar datos diarios de SPY (S&P 500 ETF) desde 2015 hasta 2020\n",
        "data = yf.download(\"SPY\", start=\"2015-01-01\", end=\"2024-12-31\")\n",
        "# Usaremos las columnas 'Close' (precio de cierre) y 'Volume'\n",
        "data = data[['Close', 'Volume']]\n",
        "print(\"Datos descargados:\")\n",
        "print(data.head(3))\n",
        "print(\"...\\n\", data.tail(3))\n",
        "print(f\"\\nTotal de registros: {len(data)}\")"
      ]
    },
    {
      "cell_type": "markdown",
      "source": [
        "Como vemos, tenemos 1510 registros diarios. A continuación separaremos los datos en entrenamiento y prueba. Usaremos 2015-2019 (unos 1258 datos) para entrenar y reservaremos 2020 (~252 datos) para probar la capacidad predictiva del modelo."
      ],
      "metadata": {
        "id": "dh6fXRk6ojC6"
      },
      "id": "dh6fXRk6ojC6"
    },
    {
      "cell_type": "markdown",
      "id": "6922a304",
      "metadata": {
        "id": "6922a304"
      },
      "source": [
        "## 4. Separar conjuntos de entrenamiento y prueba\n",
        "- **Entrenamiento**: 2015-2019\n",
        "- **Prueba**: 2020"
      ]
    },
    {
      "cell_type": "code",
      "execution_count": null,
      "id": "cb1f4497",
      "metadata": {
        "colab": {
          "base_uri": "https://localhost:8080/"
        },
        "id": "cb1f4497",
        "outputId": "a383fffd-3f22-4796-c303-cf2e6feef023"
      },
      "outputs": [
        {
          "output_type": "stream",
          "name": "stdout",
          "text": [
            "Datos de entrenamiento: 2015-01-02 a 2023-12-29 (2264 registros)\n",
            "Datos de prueba: 2024-01-02 a 2024-12-30 (251 registros)\n"
          ]
        }
      ],
      "source": [
        "# Separar entrenamiento (2015-2023) y prueba (2024)\n",
        "train_data = data['2015':'2023']\n",
        "test_data  = data[data.index.year == 2024]\n",
        "print(f\"Datos de entrenamiento: {train_data.index[0].date()} a {train_data.index[-1].date()} ({len(train_data)} registros)\")\n",
        "print(f\"Datos de prueba: {test_data.index[0].date()} a {test_data.index[-1].date()} ({len(test_data)} registros)\")"
      ]
    },
    {
      "cell_type": "markdown",
      "source": [
        "# Predicción univariante con un Perceptrón Simple\n",
        "Comenzamos con el caso más simple: predecir el precio de cierre del S&P 500 de un día usando solo el precio del día anterior. Esto equivale a un modelo de regresión lineal (un perceptrón de una neurona) que aprenda la relación `Close(t-1) -> Close(t)`.\n",
        "\n",
        "**Conversión de serie temporal a supervisada:** Las redes neuronales estándar requieren conjuntos de características (X) y etiquetas (y). Para una serie temporal, debemos crear pares entrada-salida usando rezagos (lags). En este ejercicio univariado, la entrada X será el cierre del día anterior y la salida y el cierre del día actual. Este proceso se conoce como **ventana deslizante**:\n",
        "- X[t] = Close(t-1)\n",
        "- y[t] = Close(t)\n",
        "\n",
        "En nuestro conjunto de entrenamiento 2015-2019, generaremos estos pares. El primer par utilizable será del 2015-01-05 (usando 2015-01-02 como anterior).\n",
        "\n",
        "**Nota:** No usaremos características adicionales ni normalización para mantenerlo simple. En problemas reales, suele normalizarse la escala de precios para ayudar al entrenamiento. Crear conjuntos X, y para entrenamiento y prueba (univariado):"
      ],
      "metadata": {
        "id": "sYC4hyJQn9qk"
      },
      "id": "sYC4hyJQn9qk"
    },
    {
      "cell_type": "code",
      "execution_count": null,
      "id": "d9d66fee",
      "metadata": {
        "colab": {
          "base_uri": "https://localhost:8080/"
        },
        "id": "d9d66fee",
        "outputId": "581ed0a7-2fd5-43eb-97ef-5f04e7f236a0"
      },
      "outputs": [
        {
          "output_type": "stream",
          "name": "stdout",
          "text": [
            "Pares entrenamiento: X=(2263, 1), y=(2263, 1)\n",
            "Pares prueba: X=(250, 1), y=(250, 1)\n"
          ]
        }
      ],
      "source": [
        "# Construir pares (X -> y) usando el cierre anterior para predecir el cierre actual\n",
        "def crear_lags(data_series):\n",
        "    X = data_series.shift(1).dropna() # desplazado 1 (Close anterior)\n",
        "    y = data_series.loc[X.index]                 # el valor de cierre correspondiente\n",
        "    return X, y\n",
        "\n",
        "X_train_uni, y_train_uni = crear_lags(train_data['Close'])\n",
        "X_test_uni,  y_test_uni  = crear_lags(test_data['Close'])\n",
        "\n",
        "print(f\"Pares entrenamiento: X={X_train_uni.shape}, y={y_train_uni.shape}\")\n",
        "print(f\"Pares prueba: X={X_test_uni.shape}, y={y_test_uni.shape}\")"
      ]
    },
    {
      "cell_type": "markdown",
      "id": "3d3759cc",
      "metadata": {
        "id": "3d3759cc"
      },
      "source": [
        "Indicando que tenemos ~2263 días de entrenamiento (un día menos que el total por el lag) y 250 de prueba.\n",
        "## Definir y entrenar el Perceptrón Simple\n",
        "Un **perceptrón simple** es la unidad básica de las redes neuronales: realiza una combinación **lineal** de sus entradas seguida de una función de activación. Para un problema de regresión, usaremos activación lineal (sin saturación) y optimizaremos el error cuadrático medio.\n",
        "\n",
        "En Keras, definimos un modelo secuencial con una sola neurona `(Dense(1))`. Esta neurona tomará la entrada (Close anterior) y producirá la predicción del Close actual. Este modelo aprenderá un peso $w$ y un sesgo $b$ tal que $Predicción \\approx w \\cdot Close_{t-1} + b$.\n",
        "\n",
        "Crear y entrenar el perceptrón:"
      ]
    },
    {
      "cell_type": "code",
      "execution_count": null,
      "id": "ab39c7e4",
      "metadata": {
        "colab": {
          "base_uri": "https://localhost:8080/"
        },
        "id": "ab39c7e4",
        "outputId": "c3b0a0b9-94de-4107-f4a2-3bd84ca143c5"
      },
      "outputs": [
        {
          "output_type": "stream",
          "name": "stderr",
          "text": [
            "/usr/local/lib/python3.11/dist-packages/keras/src/layers/core/dense.py:87: UserWarning: Do not pass an `input_shape`/`input_dim` argument to a layer. When using Sequential models, prefer using an `Input(shape)` object as the first layer in the model instead.\n",
            "  super().__init__(activity_regularizer=activity_regularizer, **kwargs)\n"
          ]
        },
        {
          "output_type": "stream",
          "name": "stdout",
          "text": [
            "Error cuadrático medio en prueba: 20.3480\n"
          ]
        }
      ],
      "source": [
        "from tensorflow.keras.models import Sequential\n",
        "from tensorflow.keras.layers import Dense\n",
        "\n",
        "# Definir el perceptrón simple\n",
        "model_perceptron = Sequential([\n",
        "    Dense(1, activation='linear', input_shape=(1,))  # una neurona con entrada de dimensión 1\n",
        "])\n",
        "model_perceptron.compile(optimizer='adam', loss='mse')\n",
        "\n",
        "# Entrenar el modelo en los datos de entrenamiento\n",
        "history = model_perceptron.fit(X_train_uni, y_train_uni,\n",
        "                               epochs=50, batch_size=16, verbose=0)\n",
        "\n",
        "# Evaluar en los datos de prueba\n",
        "mse_test = model_perceptron.evaluate(X_test_uni, y_test_uni, verbose=0)\n",
        "print(f\"Error cuadrático medio en prueba: {mse_test:.4f}\")"
      ]
    },
    {
      "cell_type": "markdown",
      "source": [
        "Este valor corresponde al promedio del $(Close_{predicho} - Close_{real})^2$. Podemos tomar raíz cuadrada para interpretarlo en unidades de precio:"
      ],
      "metadata": {
        "id": "LUlAqBBkq5NC"
      },
      "id": "LUlAqBBkq5NC"
    },
    {
      "cell_type": "code",
      "execution_count": null,
      "id": "d7b676e3",
      "metadata": {
        "colab": {
          "base_uri": "https://localhost:8080/"
        },
        "id": "d7b676e3",
        "outputId": "4308264a-8bbf-444e-8e21-6d6761745d4e"
      },
      "outputs": [
        {
          "output_type": "stream",
          "name": "stdout",
          "text": [
            "RMSE en prueba: 4.51 dólares\n"
          ]
        }
      ],
      "source": [
        "import numpy as np\n",
        "rmse_test = np.sqrt(mse_test)\n",
        "print(f\"RMSE en prueba: {rmse_test:.2f} dólares\")"
      ]
    },
    {
      "cell_type": "code",
      "source": [
        "\n",
        "import matplotlib.pyplot as plt\n",
        "# Obtener predicciones del modelo\n",
        "y_pred_perceptron = model_perceptron.predict(X_test_uni)\n",
        "\n",
        "# Crear el gráfico\n",
        "plt.figure(figsize=(10, 6))\n",
        "plt.plot(y_test_uni.index, y_test_uni.values, label='Valores reales')\n",
        "plt.plot(y_test_uni.index, y_pred_perceptron, label='Predicciones')\n",
        "plt.xlabel('Fecha')\n",
        "plt.ylabel('Precio de cierre')\n",
        "plt.title('Valores reales vs. Predicciones (Perceptrón Simple)')\n",
        "plt.legend()\n",
        "plt.grid(True)\n",
        "plt.show()\n"
      ],
      "metadata": {
        "colab": {
          "base_uri": "https://localhost:8080/",
          "height": 583
        },
        "id": "rBF4lNoVoOrm",
        "outputId": "1cb9e9aa-9584-423f-e69f-14fc07dd70a0"
      },
      "id": "rBF4lNoVoOrm",
      "execution_count": null,
      "outputs": [
        {
          "output_type": "stream",
          "name": "stdout",
          "text": [
            "\u001b[1m8/8\u001b[0m \u001b[32m━━━━━━━━━━━━━━━━━━━━\u001b[0m\u001b[37m\u001b[0m \u001b[1m0s\u001b[0m 6ms/step \n"
          ]
        },
        {
          "output_type": "display_data",
          "data": {
            "text/plain": [
              "<Figure size 1000x600 with 1 Axes>"
            ],
            "image/png": "[encoded data removed]"
          },
          "metadata": {}
        }
      ]
    },
    {
      "cell_type": "markdown",
      "id": "7aaf1d37",
      "metadata": {
        "id": "7aaf1d37"
      },
      "source": [
        "En contexto, con un S&P500 alrededor de 300-350 en 2020, un error de $5.53 es relativamente pequeño (0.8%).\n",
        "# Predicción de ejemplo y comentario\n",
        "\n",
        "Probemos a predecir algunos valores con el modelo entrenado para ver su comportamiento:"
      ]
    },
    {
      "cell_type": "code",
      "execution_count": null,
      "id": "3467217f",
      "metadata": {
        "colab": {
          "base_uri": "https://localhost:8080/"
        },
        "id": "3467217f",
        "outputId": "4cfe4cd4-a961-44df-c3f9-82c300cf9912"
      },
      "outputs": [
        {
          "output_type": "stream",
          "name": "stdout",
          "text": [
            "\u001b[1m8/8\u001b[0m \u001b[32m━━━━━━━━━━━━━━━━━━━━\u001b[0m\u001b[37m\u001b[0m \u001b[1m0s\u001b[0m 3ms/step \n",
            "Día 2024-01-03: Real=461.46, Predicción=464.60\n",
            "Día 2024-01-04: Real=459.98, Predicción=460.83\n",
            "Día 2024-01-05: Real=460.61, Predicción=459.35\n",
            "Día 2024-01-08: Real=467.18, Predicción=459.97\n",
            "Día 2024-01-09: Real=466.48, Predicción=466.51\n"
          ]
        }
      ],
      "source": [
        "# Predicciones de ejemplo\n",
        "y_pred_uni = model_perceptron.predict(X_test_uni)\n",
        "\n",
        "# Mostrar 5 predicciones vs valores reales\n",
        "for i in range(5):\n",
        "    # Accessing the actual value within the Series using .values[0] or .item()\n",
        "    real = y_test_uni.iloc[i].values[0]  # Extract the numerical value from the Series\n",
        "    pred = y_pred_uni[i][0]\n",
        "    print(f\"Día {X_test_uni.index[i].date()}: Real={real:.2f}, Predicción={pred:.2f}\")"
      ]
    },
    {
      "cell_type": "markdown",
      "id": "bc2442e9",
      "metadata": {
        "id": "bc2442e9"
      },
      "source": [
        "Vemos que las predicciones del perceptrón simple siguen de cerca el valor anterior (tienden a estar cerca del real, pero no capturan movimientos bruscos). Esto era esperable ya que un modelo lineal con una sola entrada esencialmente aprende un factor de inercia: por ejemplo, podría aprender a predecir casi el mismo valor del día previo (si el mercado sigue tendencia)​\n",
        "\n",
        "En resumen, el perceptrón simple logra aproximadamente predecir el siguiente día como el valor del día anterior (quizás ajustando un poco por tendencias generales). Sin embargo, no captura patrones más complejos (cambios de tendencia de varios días, efectos de volumen, etc.), para lo cual necesitamos modelos más potentes.\n",
        "# 2. Predicción univariante con un Perceptrón Multicapa (MLP)\n",
        "Ahora extenderemos el modelo anterior añadiendo una capa oculta densa, convirtiendo al perceptrón en una pequeña red neuronal (un MLP de 2 capas). El objetivo es permitir que el modelo aprenda relaciones no lineales entre Close(t-1) y Close(t).\n",
        "\n",
        "En la práctica, con una sola entrada, una red profunda sigue representando una función básicamente monotónica del valor previo, por lo que la mejora puede ser marginal. Sin embargo, este ejercicio ilustra la configuración de un MLP.\n",
        "\n",
        "Usaremos la misma entrada y salida que antes (serie univariada de cierres). Agregaremos, por ejemplo, una capa oculta con 10 neuronas y activación ReLU. Esto teóricamente le permite al modelo aproximar funciones no lineales (por ejemplo, podría aprender comportamientos asimétricos: caída rápida vs subida lenta, etc.).\n",
        "\n",
        "Definir y entrenar el MLP univariante:"
      ]
    },
    {
      "cell_type": "code",
      "execution_count": null,
      "id": "b497d1e0",
      "metadata": {
        "id": "b497d1e0",
        "colab": {
          "base_uri": "https://localhost:8080/"
        },
        "outputId": "aad16a80-b603-4c2e-92dd-80db11330287"
      },
      "outputs": [
        {
          "output_type": "stream",
          "name": "stderr",
          "text": [
            "/usr/local/lib/python3.11/dist-packages/keras/src/layers/core/dense.py:87: UserWarning: Do not pass an `input_shape`/`input_dim` argument to a layer. When using Sequential models, prefer using an `Input(shape)` object as the first layer in the model instead.\n",
            "  super().__init__(activity_regularizer=activity_regularizer, **kwargs)\n"
          ]
        },
        {
          "output_type": "stream",
          "name": "stdout",
          "text": [
            "MSE en prueba (MLP): 18.6891\n"
          ]
        }
      ],
      "source": [
        "# Definir un MLP con una capa oculta\n",
        "model_mlp = Sequential([\n",
        "    Dense(10, activation='relu', input_shape=(1,)),  # capa oculta de 10 neuronas\n",
        "    Dense(1, activation='linear')                    # salida lineal\n",
        "])\n",
        "model_mlp.compile(optimizer='adam', loss='mse')\n",
        "\n",
        "# Entrenar el modelo MLP\n",
        "history_mlp = model_mlp.fit(X_train_uni, y_train_uni,\n",
        "                             epochs=50, batch_size=16, verbose=0)\n",
        "\n",
        "# Evaluar en prueba\n",
        "mse_test_mlp = model_mlp.evaluate(X_test_uni, y_test_uni, verbose=0)\n",
        "print(f\"MSE en prueba (MLP): {mse_test_mlp:.4f}\")"
      ]
    },
    {
      "cell_type": "markdown",
      "id": "361ebfa9",
      "metadata": {
        "id": "361ebfa9"
      },
      "source": [
        "Después del entrenamiento, comparamos el error con el del modelo simple:\n",
        "\n",
        "Error cuadrático medio en prueba (Modelos simple): 30.5100\n",
        "MSE en prueba (MLP): 18.8987"
      ]
    },
    {
      "cell_type": "markdown",
      "id": "930b04c0",
      "metadata": {
        "id": "930b04c0"
      },
      "source": [
        "Es posible que el MLP obtenga un MSE ligeramente mejor (o muy similar). En nuestros datos, un perceptrón simple ya era suficientemente bueno porque la relación entre Close(t-1) y Close(t) es casi lineal (el mercado suele moverse gradualmente). Un MLP con una capa oculta no mejora mucho en este escenario univariado.\n",
        "\n",
        "**Conclusión:** En un problema de predicción univariado y lineal, un perceptrón simple puede ser tan efectivo como un MLP más complejo. Sin embargo, el MLP sienta las bases para incorporar más entradas o relaciones no lineales en los siguientes ejercicios.\n",
        "\n",
        "**Nota:** Si quisiéramos mejorar la predicción univariada, podríamos usar ventanas de tiempo más largas como entradas – por ejemplo, Close(t-3), Close(t-2), Close(t-1) para predecir Close(t). Aquí hemos mantenido una sola entrada para aislar el efecto del modelo."
      ]
    },
    {
      "cell_type": "markdown",
      "id": "08859fb2",
      "metadata": {
        "id": "08859fb2"
      },
      "source": [
        "# 3. Predicción multivariante con MLP (múltiples variables de entrada)\n",
        "\n",
        "Las condiciones del mercado no dependen solo del último precio. Podemos incorporar variables adicionales que potencialmente ayuden a predecir el próximo valor. En finanzas, por ejemplo, el volumen de negociación suele indicar la fuerza de un movimiento de precios. También podríamos incluir indicadores técnicos u otras series relacionadas.\n",
        "\n",
        " En este ejercicio multivariante, usaremos dos entradas:\n",
        "\n",
        "- Close(t-1): el cierre del día anterior (como antes).\n",
        "\n",
        "- Volume(t-1): el volumen del día anterior.\n",
        "\n",
        "Usaremos un MLP similar al anterior (capa oculta con 10 neuronas) pero adaptado a 2 entradas. El objetivo es que la red pueda ponderar también la información del volumen. Por ejemplo, un cambio de precio con volumen inusualmente alto podría implicar continuación de tendencia (algo que el modelo lineal univariado no detectaría). Construir conjuntos de datos multivariantes: Ahora X será una matriz con dos columnas: `Close_prev` y `Vol_prev`. La salida y sigue siendo `Close_actual`."
      ]
    },
    {
      "cell_type": "code",
      "execution_count": null,
      "id": "3410b80d",
      "metadata": {
        "id": "3410b80d",
        "colab": {
          "base_uri": "https://localhost:8080/"
        },
        "outputId": "0a313210-54d7-45aa-9be9-2ea4fc38ddd4"
      },
      "outputs": [
        {
          "output_type": "stream",
          "name": "stdout",
          "text": [
            "Columnas de X: [('Close', 'SPY'), ('Volume', 'SPY')]\n",
            "Pares entrenamiento multivariado: X=(2263, 2), y=(2263, 1)\n"
          ]
        }
      ],
      "source": [
        "# Construir dataset multivariante: [Close(t-1), Volume(t-1)] -> Close(t)\n",
        "def crear_lags_multivariado(data_frame):\n",
        "    # data_frame tiene columnas ['Close', 'Volume']\n",
        "    X = data_frame.shift(1).dropna()   # desplazar todo 1 día\n",
        "    y = data_frame['Close'].loc[X.index]  # el cierre correspondiente\n",
        "    return X, y\n",
        "\n",
        "X_train_multi, y_train_multi = crear_lags_multivariado(train_data)\n",
        "X_test_multi, y_test_multi = crear_lags_multivariado(test_data)\n",
        "print(\"Columnas de X:\", list(X_train_multi.columns))\n",
        "print(f\"Pares entrenamiento multivariado: X={X_train_multi.shape}, y={y_train_multi.shape}\")"
      ]
    },
    {
      "cell_type": "markdown",
      "source": [
        "Tenemos 1257 filas de entrenamiento con 2 columnas cada una (cierre y volumen previos).\n",
        "\n",
        "Antes de entrenar, es recomendable normalizar las variables, ya que el volumen está en cifras mucho más grandes que el precio. Para simplificar, aplicaremos un escalado básico: dividiremos el volumen por un factor constante (por ejemplo, por 1e8) para tenerlo en un rango más cercano al de los precios. Esto ayudará a la convergencia del entrenamiento."
      ],
      "metadata": {
        "id": "YRq3M1KuqkwY"
      },
      "id": "YRq3M1KuqkwY"
    },
    {
      "cell_type": "code",
      "source": [
        "# Escalar volumen (aproximadamente a rango similar al precio)\n",
        "X_train_multi['Volume'] /= 1e8\n",
        "X_test_multi['Volume']  /= 1e8"
      ],
      "metadata": {
        "id": "gCns_9AvquXc"
      },
      "id": "gCns_9AvquXc",
      "execution_count": null,
      "outputs": []
    },
    {
      "cell_type": "markdown",
      "source": [
        "# Definir y entrenar el MLP multivariante\n",
        "\n",
        "Ahora creamos un MLP que acepte 2 entradas (input_shape=(2,)). Usaremos la misma estructura (10 neuronas ocultas ReLU + salida lineal)."
      ],
      "metadata": {
        "id": "rCm019XDqx1r"
      },
      "id": "rCm019XDqx1r"
    },
    {
      "cell_type": "code",
      "source": [
        "# Definir MLP para múltiple entradas (precio y volumen previos)\n",
        "model_mlp_multi = Sequential([\n",
        "    Dense(10, activation='relu', input_shape=(2,)),  # 2 entradas ahora\n",
        "    Dense(1, activation='linear')\n",
        "])\n",
        "model_mlp_multi.compile(optimizer='adam', loss='mse')\n",
        "\n",
        "# Entrenar el modelo\n",
        "model_mlp_multi.fit(X_train_multi, y_train_multi, epochs=50, batch_size=16, verbose=0)\n",
        "\n",
        "# Evaluar en prueba\n",
        "mse_test_multi = model_mlp_multi.evaluate(X_test_multi, y_test_multi, verbose=0)\n",
        "print(f\"MSE en prueba (multivariado): {mse_test_multi:.3f}\")\n"
      ],
      "metadata": {
        "colab": {
          "base_uri": "https://localhost:8080/"
        },
        "id": "HS9LMND8q3Lp",
        "outputId": "2a321f38-6e0f-4b49-8176-8e5613e054da"
      },
      "id": "HS9LMND8q3Lp",
      "execution_count": null,
      "outputs": [
        {
          "output_type": "stream",
          "name": "stderr",
          "text": [
            "/usr/local/lib/python3.11/dist-packages/keras/src/layers/core/dense.py:87: UserWarning: Do not pass an `input_shape`/`input_dim` argument to a layer. When using Sequential models, prefer using an `Input(shape)` object as the first layer in the model instead.\n",
            "  super().__init__(activity_regularizer=activity_regularizer, **kwargs)\n"
          ]
        },
        {
          "output_type": "stream",
          "name": "stdout",
          "text": [
            "MSE en prueba (multivariado): 26.128\n"
          ]
        }
      ]
    },
    {
      "cell_type": "markdown",
      "source": [
        "Comparado con el valor del modelo univariado, se observa una ligera mejora al incluir el volumen. Esto indica que la red está aprovechando algo de información del volumen para afinar la predicción. Aunque la mejora es pequeña, en finanzas incluso reducciones modestas del error pueden ser valiosas. Podemos inspeccionar los pesos aprendidos para ver la importancia relativa de cada entrada:"
      ],
      "metadata": {
        "id": "m93S-KwbrFGo"
      },
      "id": "m93S-KwbrFGo"
    },
    {
      "cell_type": "code",
      "source": [
        "import matplotlib.pyplot as plt\n",
        "# Obtener predicciones del modelo multivariante\n",
        "y_pred_multi = model_mlp_multi.predict(X_test_multi)\n",
        "\n",
        "# Crear el gráfico\n",
        "plt.figure(figsize=(10, 6))\n",
        "plt.plot(y_test_multi.index, y_test_multi.values, label='Valores reales')\n",
        "plt.plot(y_test_multi.index, y_pred_multi, label='Predicciones')\n",
        "plt.xlabel('Fecha')\n",
        "plt.ylabel('Precio de cierre')\n",
        "plt.title('Valores reales vs. Predicciones (MLP Multivariante)')\n",
        "plt.legend()\n",
        "plt.grid(True)\n",
        "plt.show()\n"
      ],
      "metadata": {
        "colab": {
          "base_uri": "https://localhost:8080/",
          "height": 582
        },
        "id": "9cwShJtvsbv8",
        "outputId": "bb266779-5bf1-4691-dff5-98efb3868717"
      },
      "id": "9cwShJtvsbv8",
      "execution_count": null,
      "outputs": [
        {
          "output_type": "stream",
          "name": "stdout",
          "text": [
            "\u001b[1m8/8\u001b[0m \u001b[32m━━━━━━━━━━━━━━━━━━━━\u001b[0m\u001b[37m\u001b[0m \u001b[1m0s\u001b[0m 7ms/step \n"
          ]
        },
        {
          "output_type": "display_data",
          "data": {
            "text/plain": [
              "<Figure size 1000x600 with 1 Axes>"
            ],
            "image/png": "[encoded data removed]"
          },
          "metadata": {}
        }
      ]
    },
    {
      "cell_type": "code",
      "source": [
        "w, b = model_mlp_multi.layers[0].get_weights()[0], model_mlp_multi.layers[0].get_weights()[1]\n",
        "print(\"Pesos de la primera neurona oculta:\\n\", w)\n"
      ],
      "metadata": {
        "colab": {
          "base_uri": "https://localhost:8080/"
        },
        "id": "iMu4MXSgrOiU",
        "outputId": "3169dff0-4905-4c98-dd4d-dee79283c1ed"
      },
      "id": "iMu4MXSgrOiU",
      "execution_count": null,
      "outputs": [
        {
          "output_type": "stream",
          "name": "stdout",
          "text": [
            "Pesos de la primera neurona oculta:\n",
            " [[ 0.1810446  -0.37171462  0.35844898 -0.4344792   0.7505189   0.7475924\n",
            "   0.7758326  -0.2231136  -0.2286937  -0.12600476]\n",
            " [-0.5291267  -0.51327777  0.0751302  -0.5380728  -0.3721769   0.12814628\n",
            "  -0.5303946   0.6392055   0.24924618  0.03182691]]\n"
          ]
        }
      ]
    },
    {
      "cell_type": "markdown",
      "source": [
        "Este modelo tiene 10 neuronas ocultas, por lo que analizar pesos individualmente es más complejo. Omitiremos el análisis detallado de pesos por brevedad.\n",
        "\n",
        "En general, incluir más variables (ej. indicadores técnicos, datos macroeconómicos) puede mejorar la capacidad predictiva de los modelos de series temporales​.\n",
        "\n",
        "Nuestro MLP multivariante sienta las bases para trabajar con insumos más ricos en información.\n",
        "\n",
        "**Nota:** Para problemas financieros complejos, también se suelen emplear arquitecturas especializadas como redes recurrentes (LSTM, GRU) o redes convolucionales para captar patrones temporales. Aquí nos hemos enfocado en MLPs para ilustrar conceptos fundamentales."
      ],
      "metadata": {
        "id": "xz7bgJOoroRg"
      },
      "id": "xz7bgJOoroRg"
    },
    {
      "cell_type": "markdown",
      "source": [
        "# 4. Clasificación multiclase de tendencias semanales (Softmax)\n",
        "Por último, abordaremos un problema de clasificación en series de tiempo. En lugar de predecir un valor numérico, clasificaremos el comportamiento del mercado como \"Sube\", \"Baja\" o \"Estable\" en cada intervalo de tiempo.\n",
        "\n",
        "Específicamente, definiremos la clase en función de la variación semanal del S&P 500:\n",
        "- Sube: si el cierre de la semana t es mayor que el de la semana t-1 por cierto umbral.\n",
        "- Baja: si es menor por debajo de cierto umbral.\n",
        "- Estable: si la variación porcentual está dentro de un rango pequeño (mercado lateral).\n",
        "\n",
        "Para simplificar, usaremos datos semanales (precio de cierre del último día de cada semana) y definiremos \"estable\" cuando el cambio absoluto < 0.5%. Esta tarea ilustra cómo convertir un problema de serie temporal en clasificación supervisada. Preparar datos semanales y etiquetas de clase:\n",
        "Resamplearemos la serie a frecuencia semanal (usaremos el cierre del último día de cada semana, típicamente viernes).\n",
        "Calcularemos el rendimiento semanal: pct_change (porcentaje de cambio) respecto a la semana anterior.\n",
        "Asignaremos la clase según el rendimiento:\n",
        "- Clase = 2 (\"Sube\") si %change > +0.5%\n",
        "- Clase = 0 (\"Baja\") si %change < –0.5%\n",
        "- Clase = 1 (\"Estable\") en caso contrario (cambios pequeños).\n",
        "\n",
        "Usaremos como features la información de la semana previa, por ejemplo: rendimiento de la semana previa y volumen de la semana previa (podríamos también usar el rendimiento de 2-3 semanas previas para contexto, pero mantendremos 1 para simplicidad).\n",
        "Construir dataset de clasificación:"
      ],
      "metadata": {
        "id": "qh5pMHlFr6kq"
      },
      "id": "qh5pMHlFr6kq"
    },
    {
      "cell_type": "code",
      "source": [
        "# Convertir a serie semanal (resample al viernes con último valor)\n",
        "weekly = data.resample('W-FRI').last()\n",
        "\n",
        "# Calcular rendimiento porcentual semanal\n",
        "weekly['Return'] = weekly['Close'].pct_change() * 100  # en %\n",
        "weekly['Vol_prev'] = weekly['Volume'].shift(1)         # volumen semana previa\n",
        "weekly = weekly.dropna()\n",
        "\n",
        "# Definir la etiqueta de clase\n",
        "threshold = 0.8  # 0.6% umbral\n",
        "conditions = [\n",
        "    weekly['Return'] > threshold,    # sube\n",
        "    weekly['Return'] < -threshold   # baja\n",
        "]\n",
        "choices = [2, 0]  # 2 = Sube, 0 = Baja\n",
        "weekly['Class'] = np.select(conditions, choices, default=1)  # 1 = Estable\n",
        "\n",
        "# Features: retorno previo y volumen previo (de la semana anterior)\n",
        "X_clas = weekly[['Return', 'Vol_prev']].shift(1).dropna()\n",
        "y_clas = weekly['Class'].loc[X_clas.index]\n",
        "\n",
        "# Separar entrenamiento (2015-2023) y prueba (2024) para clasificación\n",
        "X_train_clas = X_clas[X_clas.index.year < 2023]\n",
        "y_train_clas = y_clas[y_clas.index.year < 2023]\n",
        "X_test_clas = X_clas[X_clas.index.year == 2024]\n",
        "y_test_clas = y_clas[y_clas.index.year == 2024]\n",
        "\n",
        "print(f\"Semanas entrenamiento: {len(X_train_clas)}, Semanas prueba: {len(X_test_clas)}\")\n",
        "print(\"Distribución de clases en entrenamiento:\", np.bincount(y_train_clas))\n"
      ],
      "metadata": {
        "colab": {
          "base_uri": "https://localhost:8080/"
        },
        "id": "7TJpMBpKuzpz",
        "outputId": "8fc37d81-73b0-4dd2-cf92-8c3e9063c03a"
      },
      "id": "7TJpMBpKuzpz",
      "execution_count": null,
      "outputs": [
        {
          "output_type": "stream",
          "name": "stdout",
          "text": [
            "Semanas entrenamiento: 416, Semanas prueba: 52\n",
            "Distribución de clases en entrenamiento: [111 142 163]\n"
          ]
        }
      ]
    },
    {
      "cell_type": "markdown",
      "source": [
        "Interpretación: en las 416 semanas de 2015-2023, hubo 117 semanas de baja, 118 estables y 181 de subida (notamos un sesgo hacia 'subida'; podríamos ajustar el umbral si se desea clases más balanceadas).\n",
        "\n",
        "# Definir y entrenar la red con Softmax\n",
        "\n",
        "Para clasificación multiclase, la última capa de la red usará activación Softmax (3 neuronas, una por categoría) y la función de pérdida será categorical **crossentropy**.\n",
        "\n",
        "Crearemos un pequeño MLP: capa oculta con, digamos, 8 neuronas y activación ReLU, y capa de salida Softmax de 3 neuronas. Entrenaremos con las etiquetas en formato entero (usando sparse_categorical_crossentropy en Keras, que acepta etiquetas integer)."
      ],
      "metadata": {
        "id": "jZUxUlRCu_lT"
      },
      "id": "jZUxUlRCu_lT"
    },
    {
      "cell_type": "code",
      "source": [
        "# Definir MLP para clasificación (entrada: Return_prev, Vol_prev)\n",
        "#from tensorflow.keras.layers import LeakyReLU\n",
        "model_clas = Sequential([\n",
        "    Dense(8, activation='relu', input_shape=(2,)),\n",
        "    Dense(3, activation='softmax')\n",
        "])\n",
        "model_clas.compile(optimizer='adam', loss='sparse_categorical_crossentropy', metrics=['accuracy'])\n",
        "\n",
        "#-------\n",
        "# Definir MLP para clasificación (entrada: Return_prev, Vol_prev)\n",
        "#model_clas = Sequential([\n",
        "#    Dense(8, input_shape=(2,)),\n",
        "#    LeakyReLU(alpha=0.2),  # Added LeakyReLU layer with alpha=0.01\n",
        "#    Dense(3, activation='softmax')\n",
        "#])\n",
        "#model_clas.compile(optimizer='adam', loss='sparse_categorical_crossentropy', metrics=['accuracy'])\n",
        "\n",
        "#-----\n",
        "\n",
        "\n",
        "\n",
        "# Entrenar la red de clasificación\n",
        "model_clas.fit(X_train_clas, y_train_clas, epochs=50, batch_size=8, verbose=0)\n",
        "\n",
        "# Evaluar en semanas de prueba 2023\n",
        "loss, acc = model_clas.evaluate(X_test_clas, y_test_clas, verbose=0)\n",
        "print(f\"Precisión en semanas 2023: {acc*100:.1f}%\")\n"
      ],
      "metadata": {
        "colab": {
          "base_uri": "https://localhost:8080/"
        },
        "id": "ZaYo9C-KwYXp",
        "outputId": "16bf7c5b-159d-4653-9236-d04c36b5dc77"
      },
      "id": "ZaYo9C-KwYXp",
      "execution_count": null,
      "outputs": [
        {
          "output_type": "stream",
          "name": "stderr",
          "text": [
            "/usr/local/lib/python3.11/dist-packages/keras/src/layers/core/dense.py:87: UserWarning: Do not pass an `input_shape`/`input_dim` argument to a layer. When using Sequential models, prefer using an `Input(shape)` object as the first layer in the model instead.\n",
            "  super().__init__(activity_regularizer=activity_regularizer, **kwargs)\n"
          ]
        },
        {
          "output_type": "stream",
          "name": "stdout",
          "text": [
            "Precisión en semanas 2023: 48.1%\n"
          ]
        }
      ]
    },
    {
      "cell_type": "markdown",
      "source": [
        "Para verificar las predicciones, mostramos algunas semanas de 2024 con su clase real vs predicha:"
      ],
      "metadata": {
        "id": "fur0sxrWwpJ2"
      },
      "id": "fur0sxrWwpJ2"
    },
    {
      "cell_type": "code",
      "source": [
        "# Predicciones de clase para 2024\n",
        "y_pred_proba = model_clas.predict(X_test_clas)\n",
        "y_pred_class = np.argmax(y_pred_proba, axis=1)\n",
        "\n",
        "semanas = X_test_clas.index[:52]\n",
        "print(\"Semana       ClaseReal  ClasePred  (Probabilidades [Baja,Estable,Sube])\")\n",
        "for week in semanas:\n",
        "    real = y_clas.loc[week]\n",
        "    pred = y_pred_class[X_test_clas.index.get_loc(week)]\n",
        "    probs = y_pred_proba[X_test_clas.index.get_loc(week)]\n",
        "    print(f\"{week.date()}    {real}         {pred}        ({probs.round(3)})\")\n"
      ],
      "metadata": {
        "colab": {
          "base_uri": "https://localhost:8080/"
        },
        "id": "6_OkeV8cwrPS",
        "outputId": "c334dd94-3c36-4834-fcf7-9cf3a679393c"
      },
      "id": "6_OkeV8cwrPS",
      "execution_count": null,
      "outputs": [
        {
          "output_type": "stream",
          "name": "stdout",
          "text": [
            "\r\u001b[1m1/2\u001b[0m \u001b[32m━━━━━━━━━━\u001b[0m\u001b[37m━━━━━━━━━━\u001b[0m \u001b[1m0s\u001b[0m 57ms/step"
          ]
        },
        {
          "output_type": "stream",
          "name": "stderr",
          "text": [
            "WARNING:tensorflow:5 out of the last 19 calls to <function TensorFlowTrainer.make_predict_function.<locals>.one_step_on_data_distributed at 0x7b7f806aea20> triggered tf.function retracing. Tracing is expensive and the excessive number of tracings could be due to (1) creating @tf.function repeatedly in a loop, (2) passing tensors with different shapes, (3) passing Python objects instead of tensors. For (1), please define your @tf.function outside of the loop. For (2), @tf.function has reduce_retracing=True option that can avoid unnecessary retracing. For (3), please refer to https://www.tensorflow.org/guide/function#controlling_retracing and https://www.tensorflow.org/api_docs/python/tf/function for  more details.\n"
          ]
        },
        {
          "output_type": "stream",
          "name": "stdout",
          "text": [
            "\b\b\b\b\b\b\b\b\b\b\b\b\b\b\b\b\b\b\b\b\b\b\b\b\b\b\b\b\b\b\b\b\b\b\b\b\b\r\u001b[1m2/2\u001b[0m \u001b[32m━━━━━━━━━━━━━━━━━━━━\u001b[0m\u001b[37m\u001b[0m \u001b[1m0s\u001b[0m 61ms/step\n",
            "Semana       ClaseReal  ClasePred  (Probabilidades [Baja,Estable,Sube])\n",
            "2024-01-05    0         2        ([0. 0. 1.])\n",
            "2024-01-12    2         2        ([0. 0. 1.])\n",
            "2024-01-19    2         2        ([0. 0. 1.])\n",
            "2024-01-26    2         2        ([0. 0. 1.])\n",
            "2024-02-02    2         2        ([0. 0. 1.])\n",
            "2024-02-09    2         2        ([0. 0. 1.])\n",
            "2024-02-16    1         2        ([0. 0. 1.])\n",
            "2024-02-23    2         2        ([0. 0. 1.])\n",
            "2024-03-01    2         2        ([0. 0. 1.])\n",
            "2024-03-08    1         2        ([0. 0. 1.])\n",
            "2024-03-15    1         2        ([0. 0. 1.])\n",
            "2024-03-22    2         2        ([0. 0. 1.])\n",
            "2024-03-29    1         2        ([0. 0. 1.])\n",
            "2024-04-05    0         2        ([0. 0. 1.])\n",
            "2024-04-12    0         2        ([0. 0. 1.])\n",
            "2024-04-19    0         2        ([0. 0. 1.])\n",
            "2024-04-26    2         2        ([0. 0. 1.])\n",
            "2024-05-03    1         2        ([0. 0. 1.])\n",
            "2024-05-10    2         2        ([0. 0. 1.])\n",
            "2024-05-17    2         2        ([0. 0. 1.])\n",
            "2024-05-24    1         2        ([0. 0. 1.])\n",
            "2024-05-31    1         2        ([0. 0. 1.])\n",
            "2024-06-07    2         2        ([0. 0. 1.])\n",
            "2024-06-14    2         2        ([0. 0. 1.])\n",
            "2024-06-21    1         2        ([0. 0. 1.])\n",
            "2024-06-28    1         2        ([0. 0. 1.])\n",
            "2024-07-05    2         2        ([0. 0. 1.])\n",
            "2024-07-12    2         2        ([0. 0. 1.])\n",
            "2024-07-19    0         2        ([0. 0. 1.])\n",
            "2024-07-26    0         2        ([0. 0. 1.])\n",
            "2024-08-02    0         2        ([0. 0. 1.])\n",
            "2024-08-09    1         2        ([0. 0. 1.])\n",
            "2024-08-16    2         2        ([0. 0. 1.])\n",
            "2024-08-23    2         2        ([0. 0. 1.])\n",
            "2024-08-30    1         2        ([0. 0. 1.])\n",
            "2024-09-06    0         2        ([0. 0. 1.])\n",
            "2024-09-13    2         2        ([0. 0. 1.])\n",
            "2024-09-20    2         2        ([0. 0. 1.])\n",
            "2024-09-27    1         2        ([0. 0. 1.])\n",
            "2024-10-04    1         2        ([0. 0. 1.])\n",
            "2024-10-11    2         2        ([0. 0. 1.])\n",
            "2024-10-18    2         2        ([0. 0. 1.])\n",
            "2024-10-25    0         2        ([0. 0. 1.])\n",
            "2024-11-01    0         2        ([0. 0. 1.])\n",
            "2024-11-08    2         2        ([0. 0. 1.])\n",
            "2024-11-15    0         2        ([0. 0. 1.])\n",
            "2024-11-22    2         2        ([0. 0. 1.])\n",
            "2024-11-29    2         2        ([0. 0. 1.])\n",
            "2024-12-06    2         2        ([0. 0. 1.])\n",
            "2024-12-13    1         2        ([0. 0. 1.])\n",
            "2024-12-20    0         2        ([0. 0. 1.])\n",
            "2024-12-27    1         2        ([0. 0. 1.])\n"
          ]
        }
      ]
    },
    {
      "cell_type": "markdown",
      "source": [
        "En este ejemplo, la red identificó correctamente la mayoría de semanas:\n",
        "Semanas con gran subida (sube) o gran caída (baja) son detectadas con alta probabilidad en la clase correcta.\n",
        "Una semana fue clasificada incorrectamente (2020-01-24 real 'estable' pero predicha 'baja' con 55% prob). Esto puede ocurrir si el volumen o retorno previo insinuaban debilidad.\n",
        "Conclusión: Hemos construido un clasificador de tendencia semanal. Con un modelo simple logramos ~60% de acierto en la predicción de “sube/baja/estable” la semana siguiente. En la práctica, se podrían incluir más características (por ejemplo: volatilidad, indicadores técnicos, noticias) para mejorar esta precisión. No obstante, este ejercicio demuestra cómo transformar un problema de series temporales en clasificación, usando una red con softmax para obtener una probabilidad de cada escenario​\n",
        "analyticsvidhya.com\n",
        "​\n",
        "machinelearningmastery.com\n",
        ". Las probabilidades predichas pueden ser útiles para tomar decisiones de inversión con estimación de confianza en cada resultado (por ejemplo, evitar operar cuando la red está indecisa con altas probabilidades de 'estable')."
      ],
      "metadata": {
        "id": "mxf3eNQ_xEha"
      },
      "id": "mxf3eNQ_xEha"
    },
    {
      "cell_type": "markdown",
      "id": "7aed8823",
      "metadata": {
        "id": "7aed8823"
      },
      "source": [
        "## Conclusiones Generales\n",
        "\n",
        "En este taller aplicamos redes neuronales a problemas financieros de series de tiempo:\n",
        "- Un Perceptrón Simple (modelo lineal) puede capturar relaciones directas como la inercia del precio.\n",
        "- Un MLP (Perceptrón Multicapa) con capa oculta permite modelar relaciones más complejas y aprovechar múltiples factores (como volumen), aunque requiere más datos y tuneo para obtener mejoras significativas.\n",
        "- Reformular la predicción como Clasificación (usando softmax) nos permite abordar preguntas distintas, como prever la dirección del mercado, proporcionando salidas probabilísticas que son útiles para la toma de decisiones.\n",
        "\n",
        "Estos ejemplos sientan las bases para proyectos más avanzados. En casos reales, se suele:\n",
        "\n",
        "- Probar arquitecturas más profundas o especializadas (LSTM, CNN) para series temporales​.\n",
        "- Realizar una cuidadosa normalización de entradas (muy recomendable cuando rangos difieren mucho, como vimos con el volumen).\n",
        "-Evaluar el modelo con métricas adicionales (ej. MAE para regresión, matriz de confusión para clasificación).\n",
        "- Backtesting en el caso financiero para entender el impacto de las predicciones en una estrategia de trading.\n",
        "## Referencias:\n",
        "\n",
        "- Jason Brownlee. \"Multilayer Perceptrons for Time Series Forecasting\" – (machinelearningmastery.com) explica la preparación de datos de series temporales para redes neuronales.\n",
        "- Analytics Vidhya. \"Time Series Classification With Python\" – Introducción a clasificación de series de tiempo y ejemplos de uso de modelos y softmax​."
      ]
    }
  ],
  "metadata": {
    "colab": {
      "provenance": []
    },
    "language_info": {
      "name": "python"
    },
    "kernelspec": {
      "name": "python3",
      "display_name": "Python 3"
    }
  },
  "nbformat": 4,
  "nbformat_minor": 5
}