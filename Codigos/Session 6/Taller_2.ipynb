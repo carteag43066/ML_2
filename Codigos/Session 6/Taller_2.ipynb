{
  "cells": [
    {
      "cell_type": "markdown",
      "metadata": {
        "id": "DKk8DQu1mf-5"
      },
      "source": [
        "# Taller: Predicción de Series Temporales con Redes Neuronales (LSTM, CNN) en PyTorch\n",
        "\n",
        "## Introducción\n",
        "En este taller práctico aprenderemos a predecir series temporales utilizando distintos tipos de redes neuronales implementadas en PyTorch. En particular, exploraremos y compararemos tres enfoques de modelado:\n",
        "* Un Perceptrón Multicapa (Multi-Layer Perceptron, MLP) tradicional.\n",
        "\n",
        "* Una Red Neuronal Recurrente LSTM (Long Short-Term Memory), adecuada para datos secuenciales.\n",
        "* Una Red Neuronal Convolucional (CNN) aplicada a series temporales (con convoluciones 1D).\n",
        "\n",
        "Usaremos datos económicos reales (ejemplo: tasas de interés, inflación) obtenidos de fuentes públicas mediante librerías Python como pandas-datareader o fredapi. Incorporaremos además **variables categóricas** (como el día de la semana) mediante codificación one-hot, junto con variables numéricas (valores históricos de la serie), demostrando cómo manejar **variables mixtas** en nuestros modelos.\n",
        "\n",
        "A lo largo del taller, seguiremos estos pasos generales:\n",
        "\n",
        "- **Obtención de datos reales**: descargaremos una serie temporal financiera (p. ej., tasa de interés) usando fuentes de datos públicas gratuitas.\n",
        "- **Preparación de datos**: crearemos un conjunto de datos supervisado a partir de la serie temporal, incluyendo lags (valores rezagados t-1, t-2, t-3) como características, y codificaremos variables categóricas (como el día de la semana) con one-hot encoding.\n",
        "\n",
        "* **Construcción de modelos**: definiremos en PyTorch un modelo MLP, una red LSTM y una CNN 1D para realizar la predicción un paso adelante de la serie.\n",
        "\n",
        "- **Entrenamiento de los modelos**: entrenaremos cada modelo con los datos preparados, incluyendo el proceso de instalación de dependencias y explicando cada segmento de código.\n",
        "\n",
        "- **Evaluación del desempeño**: evaluaremos los modelos en un conjunto de prueba usando métricas adecuadas. Para regresión utilizaremos MAE (error absoluto medio) y RMSE (raíz del error cuadrático medio). Si tuviéramos un caso de clasificación, ilustraríamos el uso de matriz de confusión y curvas ROC, según corresponda.\n",
        "- **Comparativa y conclusiones**: analizaremos los resultados obtenidos, destacando diferencias de desempeño y comportamiento entre el MLP tradicional, la LSTM y la CNN en el contexto de series temporales financieras.\n",
        "\n",
        "Al finalizar, el estudiante comprenderá mejor cómo aplicar redes neuronales a problemas de pronóstico financiero y cuándo una arquitectura puede superar a otra en este contexto.\n",
        "\n",
        "# 1. Instalación y Configuración de Entorno\n",
        "\n",
        "Comenzamos asegurando que todas las dependencias necesarias estén instaladas. Esto incluye librerías para obtener datos, manipularlos y construir los modelos. Si estamos ejecutando en Google Colab, muchas librerías (como PyTorch) ya vienen preinstaladas. Aun así, mostraremos cómo instalarlas explícitamente por completitud:"
      ]
    },
    {
      "cell_type": "code",
      "execution_count": 1,
      "metadata": {
        "colab": {
          "base_uri": "https://localhost:8080/"
        },
        "id": "GnBBY8jombsZ",
        "outputId": "9fbb4054-e309-4a1d-bcfb-d7e80d60bb26"
      },
      "outputs": [
        {
          "name": "stdout",
          "output_type": "stream",
          "text": [
            "Collecting pandas_datareader\n",
            "  Downloading pandas_datareader-0.10.0-py3-none-any.whl.metadata (2.9 kB)\n",
            "Collecting fredapi\n",
            "  Downloading fredapi-0.5.2-py3-none-any.whl.metadata (5.0 kB)\n",
            "Requirement already satisfied: matplotlib in c:\\users\\aluca\\miniconda3\\envs\\ml_2\\lib\\site-packages (3.10.1)\n",
            "Requirement already satisfied: scikit-learn in c:\\users\\aluca\\miniconda3\\envs\\ml_2\\lib\\site-packages (1.6.1)\n",
            "Requirement already satisfied: torch in c:\\users\\aluca\\miniconda3\\envs\\ml_2\\lib\\site-packages (2.2.2)\n",
            "Requirement already satisfied: torchvision in c:\\users\\aluca\\miniconda3\\envs\\ml_2\\lib\\site-packages (0.17.2)\n",
            "Requirement already satisfied: torchaudio in c:\\users\\aluca\\miniconda3\\envs\\ml_2\\lib\\site-packages (2.2.2)\n",
            "Collecting lxml (from pandas_datareader)\n",
            "  Downloading lxml-5.4.0-cp310-cp310-win_amd64.whl.metadata (3.6 kB)\n",
            "Requirement already satisfied: pandas>=0.23 in c:\\users\\aluca\\miniconda3\\envs\\ml_2\\lib\\site-packages (from pandas_datareader) (2.2.3)\n",
            "Requirement already satisfied: requests>=2.19.0 in c:\\users\\aluca\\miniconda3\\envs\\ml_2\\lib\\site-packages (from pandas_datareader) (2.32.3)\n",
            "Requirement already satisfied: contourpy>=1.0.1 in c:\\users\\aluca\\miniconda3\\envs\\ml_2\\lib\\site-packages (from matplotlib) (1.3.1)\n",
            "Requirement already satisfied: cycler>=0.10 in c:\\users\\aluca\\miniconda3\\envs\\ml_2\\lib\\site-packages (from matplotlib) (0.12.1)\n",
            "Requirement already satisfied: fonttools>=4.22.0 in c:\\users\\aluca\\miniconda3\\envs\\ml_2\\lib\\site-packages (from matplotlib) (4.57.0)\n",
            "Requirement already satisfied: kiwisolver>=1.3.1 in c:\\users\\aluca\\miniconda3\\envs\\ml_2\\lib\\site-packages (from matplotlib) (1.4.8)\n",
            "Requirement already satisfied: numpy>=1.23 in c:\\users\\aluca\\miniconda3\\envs\\ml_2\\lib\\site-packages (from matplotlib) (1.26.4)\n",
            "Requirement already satisfied: packaging>=20.0 in c:\\users\\aluca\\miniconda3\\envs\\ml_2\\lib\\site-packages (from matplotlib) (24.2)\n",
            "Requirement already satisfied: pillow>=8 in c:\\users\\aluca\\miniconda3\\envs\\ml_2\\lib\\site-packages (from matplotlib) (11.1.0)\n",
            "Requirement already satisfied: pyparsing>=2.3.1 in c:\\users\\aluca\\miniconda3\\envs\\ml_2\\lib\\site-packages (from matplotlib) (3.2.3)\n",
            "Requirement already satisfied: python-dateutil>=2.7 in c:\\users\\aluca\\miniconda3\\envs\\ml_2\\lib\\site-packages (from matplotlib) (2.9.0.post0)\n",
            "Requirement already satisfied: scipy>=1.6.0 in c:\\users\\aluca\\miniconda3\\envs\\ml_2\\lib\\site-packages (from scikit-learn) (1.15.2)\n",
            "Requirement already satisfied: joblib>=1.2.0 in c:\\users\\aluca\\miniconda3\\envs\\ml_2\\lib\\site-packages (from scikit-learn) (1.4.2)\n",
            "Requirement already satisfied: threadpoolctl>=3.1.0 in c:\\users\\aluca\\miniconda3\\envs\\ml_2\\lib\\site-packages (from scikit-learn) (3.6.0)\n",
            "Requirement already satisfied: filelock in c:\\users\\aluca\\miniconda3\\envs\\ml_2\\lib\\site-packages (from torch) (3.18.0)\n",
            "Requirement already satisfied: typing-extensions>=4.8.0 in c:\\users\\aluca\\miniconda3\\envs\\ml_2\\lib\\site-packages (from torch) (4.13.1)\n",
            "Requirement already satisfied: sympy in c:\\users\\aluca\\miniconda3\\envs\\ml_2\\lib\\site-packages (from torch) (1.13.3)\n",
            "Requirement already satisfied: networkx in c:\\users\\aluca\\miniconda3\\envs\\ml_2\\lib\\site-packages (from torch) (3.4.2)\n",
            "Requirement already satisfied: jinja2 in c:\\users\\aluca\\miniconda3\\envs\\ml_2\\lib\\site-packages (from torch) (3.1.6)\n",
            "Requirement already satisfied: fsspec in c:\\users\\aluca\\miniconda3\\envs\\ml_2\\lib\\site-packages (from torch) (2025.3.2)\n",
            "Requirement already satisfied: pytz>=2020.1 in c:\\users\\aluca\\miniconda3\\envs\\ml_2\\lib\\site-packages (from pandas>=0.23->pandas_datareader) (2025.2)\n",
            "Requirement already satisfied: tzdata>=2022.7 in c:\\users\\aluca\\miniconda3\\envs\\ml_2\\lib\\site-packages (from pandas>=0.23->pandas_datareader) (2025.2)\n",
            "Requirement already satisfied: six>=1.5 in c:\\users\\aluca\\miniconda3\\envs\\ml_2\\lib\\site-packages (from python-dateutil>=2.7->matplotlib) (1.17.0)\n",
            "Requirement already satisfied: charset-normalizer<4,>=2 in c:\\users\\aluca\\miniconda3\\envs\\ml_2\\lib\\site-packages (from requests>=2.19.0->pandas_datareader) (3.4.1)\n",
            "Requirement already satisfied: idna<4,>=2.5 in c:\\users\\aluca\\miniconda3\\envs\\ml_2\\lib\\site-packages (from requests>=2.19.0->pandas_datareader) (3.10)\n",
            "Requirement already satisfied: urllib3<3,>=1.21.1 in c:\\users\\aluca\\miniconda3\\envs\\ml_2\\lib\\site-packages (from requests>=2.19.0->pandas_datareader) (2.3.0)\n",
            "Requirement already satisfied: certifi>=2017.4.17 in c:\\users\\aluca\\miniconda3\\envs\\ml_2\\lib\\site-packages (from requests>=2.19.0->pandas_datareader) (2025.1.31)\n",
            "Requirement already satisfied: MarkupSafe>=2.0 in c:\\users\\aluca\\miniconda3\\envs\\ml_2\\lib\\site-packages (from jinja2->torch) (3.0.2)\n",
            "Requirement already satisfied: mpmath<1.4,>=1.1.0 in c:\\users\\aluca\\miniconda3\\envs\\ml_2\\lib\\site-packages (from sympy->torch) (1.3.0)\n",
            "Downloading pandas_datareader-0.10.0-py3-none-any.whl (109 kB)\n",
            "Downloading fredapi-0.5.2-py3-none-any.whl (11 kB)\n",
            "Downloading lxml-5.4.0-cp310-cp310-win_amd64.whl (3.8 MB)\n",
            "   ---------------------------------------- 0.0/3.8 MB ? eta -:--:--\n",
            "   ---------------------- ----------------- 2.1/3.8 MB 10.7 MB/s eta 0:00:01\n",
            "   ---------------------------------------- 3.8/3.8 MB 14.2 MB/s eta 0:00:00\n",
            "Installing collected packages: lxml, pandas_datareader, fredapi\n",
            "Successfully installed fredapi-0.5.2 lxml-5.4.0 pandas_datareader-0.10.0\n"
          ]
        }
      ],
      "source": [
        "# Instalación de librerías necesarias (ejecutar si no están instaladas)\n",
        "!pip install pandas_datareader fredapi matplotlib scikit-learn torch torchvision torchaudio\n"
      ]
    },
    {
      "cell_type": "markdown",
      "metadata": {
        "id": "EJ6HjkEVorqf"
      },
      "source": [
        "- pandas_datareader y fredapi nos permitirán descargar datos económicos de fuentes públicas (por ejemplo, FRED - Federal Reserve Economic Data).\n",
        "- matplotlib se usará para graficar la serie temporal y las predicciones.\n",
        "- scikit-learn proporcionará funciones para el procesamiento de datos (p. ej. escalado) y métricas de evaluación.\n",
        "- torch, torchvision, torchaudio son los paquetes de PyTorch (el core y módulos relacionados).\n",
        "\n",
        "Aclaración: Si ejecutas este notebook en Google Colab, asegúrate de seleccionar un entorno de ejecución con Python 3 y GPU activada si planeas acelerar el entrenamiento (aunque para este ejemplo no es estrictamente necesario GPU debido a que las redes serán pequeñas).\n"
      ]
    },
    {
      "cell_type": "markdown",
      "metadata": {
        "id": "cDEIYpKlpHUb"
      },
      "source": [
        "# 2. Obtención de Datos Económicos Reales\n",
        "Para ilustrar el taller, utilizaremos una serie temporal financiera real. Es importante escoger una serie con suficiente historial y variabilidad. Como ejemplo, usaremos la tasa de interés de los bonos del Tesoro de EE.UU. a 10 años (también conocida como *10-Year Treasury Constant Maturity Rate*). Esta serie es de frecuencia diaria (días hábiles) y está disponible públicamente en FRED bajo el código **\"DGS10\"**.\n",
        "\n",
        "También podríamos haber elegido una serie de inflación (por ejemplo, la variación mensual del IPC), pero con datos diarios podemos mostrar el uso de la variable categórica \"día de la semana\" en la predicción.\n",
        "\n",
        "Utilizaremos pandas_datareader para descargar la serie desde FRED. En caso de usar fredapi, se requeriría una clave de API, por lo que pandas_datareader resulta más sencillo para este taller.\n",
        "\n",
        "Veamos cómo obtener los datos:"
      ]
    },
    {
      "cell_type": "code",
      "execution_count": 2,
      "metadata": {
        "colab": {
          "base_uri": "https://localhost:8080/"
        },
        "id": "KrGpF1RyptXO",
        "outputId": "2b091511-9f30-4cea-f51d-e7a6d93c9058"
      },
      "outputs": [
        {
          "name": "stdout",
          "output_type": "stream",
          "text": [
            "Datos descargados:\n",
            "            DGS10\n",
            "DATE             \n",
            "2010-01-01    NaN\n",
            "2010-01-04   3.85\n",
            "2010-01-05   3.77\n",
            "2010-01-06   3.85\n",
            "2010-01-07   3.85\n",
            "...\n",
            "            DGS10\n",
            "DATE             \n",
            "2024-12-25    NaN\n",
            "2024-12-26   4.58\n",
            "2024-12-27   4.62\n",
            "2024-12-30   4.55\n",
            "2024-12-31   4.58\n"
          ]
        }
      ],
      "source": [
        "import pandas as pd\n",
        "from pandas_datareader import data as pdr\n",
        "import datetime\n",
        "import numpy as np\n",
        "\n",
        "\n",
        "# Definir el período de tiempo para la serie temporal (ejemplo: 10 años de datos)\n",
        "start_date = datetime.datetime(2010, 1, 1)\n",
        "end_date   = datetime.datetime(2024, 12, 31)\n",
        "\n",
        "# Descargar la serie de tasa de interés a 10 años (DGS10) desde FRED\n",
        "df = pdr.DataReader('DGS10', 'fred', start_date, end_date)\n",
        "\n",
        "# Mostrar las primeras y últimas filas para verificar\n",
        "print(\"Datos descargados:\")\n",
        "print(df.head(5))\n",
        "print(\"...\")\n",
        "print(df.tail(5))\n"
      ]
    },
    {
      "cell_type": "markdown",
      "metadata": {
        "id": "wf4Ovnrap4gd"
      },
      "source": [
        "### Explicación:\n",
        "\n",
        "Establecemos **start_date** y **end_date** para definir el rango histórico de datos que queremos (en este caso, 2010-2020).\n",
        "Usamos DataReader con el código `'DGS10'` y fuente `'fred'` para obtener la serie. Esto nos devuelve un DataFrame df con un índice de fechas y una columna con los valores de la tasa de interés.\n",
        "Imprimimos las primeras y últimas filas para inspeccionar rápidamente el contenido.\n"
      ]
    },
    {
      "cell_type": "markdown",
      "metadata": {
        "id": "r3LGndTLqNbt"
      },
      "source": [
        "En este ejemplo, la columna se llama `\"DGS10\"` y contiene la tasa de interés porcentual diaria. Observamos que en fechas como 2020-12-25 aparece **NaN **(datos faltantes). Esto ocurre típicamente en días feriados o fines de semana donde no hay cotización (FRED marca los días sin datos con NaN).\n",
        "\n",
        "## 2.1 Limpieza y exploración inicial de los datos\n",
        "Antes de profundizar, manejemos los datos faltantes y visualicemos la serie temporal:"
      ]
    },
    {
      "cell_type": "code",
      "execution_count": 3,
      "metadata": {
        "colab": {
          "base_uri": "https://localhost:8080/",
          "height": 607
        },
        "id": "FExGZgc_qWBe",
        "outputId": "aa0239e6-98a1-492b-b8ef-7eedc5cbea37"
      },
      "outputs": [
        {
          "name": "stdout",
          "output_type": "stream",
          "text": [
            "Total de registros después de eliminar NaN: 3752\n",
            "            DGS10\n",
            "DATE             \n",
            "2010-01-04   3.85\n",
            "2010-01-05   3.77\n",
            "2010-01-06   3.85\n",
            "            DGS10\n",
            "DATE             \n",
            "2024-12-27   4.62\n",
            "2024-12-30   4.55\n",
            "2024-12-31   4.58\n"
          ]
        },
        {
          "data": {
            "image/png": "[encoded data removed]",
            "text/plain": [
              "<Figure size 1000x400 with 1 Axes>"
            ]
          },
          "metadata": {},
          "output_type": "display_data"
        }
      ],
      "source": [
        "# Eliminar filas con datos faltantes (NaN), típicos de fines de semana/feriados sin cotización\n",
        "df = df.dropna()\n",
        "\n",
        "print(f\"Total de registros después de eliminar NaN: {len(df)}\")\n",
        "print(df.head(3))\n",
        "print(df.tail(3))\n",
        "\n",
        "# Graficar la serie temporal para visualizarla\n",
        "import matplotlib.pyplot as plt\n",
        "\n",
        "plt.figure(figsize=(10,4))\n",
        "plt.plot(df.index, df['DGS10'], label='Tasa 10y (DGS10)')\n",
        "plt.title('Tasa de Interés del Bono del Tesoro a 10 años (2010-2020)')\n",
        "plt.xlabel('Fecha')\n",
        "plt.ylabel('Tasa de interés (%)')\n",
        "plt.legend()\n",
        "plt.show()\n"
      ]
    },
    {
      "cell_type": "markdown",
      "metadata": {
        "id": "wcA01VrTqk2e"
      },
      "source": [
        "### Explicación:\n",
        "\n",
        "Utilizamos dropna() para eliminar cualquier fila con NaN. Alternativamente, podríamos interpolar o llenar con el último valor conocido, pero para simplificar el entrenamiento (y dado que los NaN corresponden a días sin actividad), los removemos. Así nuestros datos quedan con frecuencia de días hábiles.\n",
        "\n",
        "Imprimimos de nuevo un par de filas iniciales y finales para confirmar que no quedan NaN.\n",
        "\n",
        "Graficamos la serie con matplotlib para entender su comportamiento visualmente (tendencias, volatilidad, etc.). Esto nos da contexto sobre la tarea de predicción.\n",
        "\n",
        "Al graficar, deberíamos ver la evolución de la tasa de interés en el período elegido, por ejemplo, subidas y bajadas a lo largo de los años (picos alrededor de 2018 cerca de 3%, caídas hacia 2020 por debajo de 1%, etc.)."
      ]
    },
    {
      "cell_type": "markdown",
      "metadata": {
        "id": "ym39E1AYq_ke"
      },
      "source": [
        "# 3. Preparación de los Datos para el Modelo\n",
        "Los modelos de redes neuronales no pueden trabajar directamente con la serie cruda para pronóstico. Necesitamos transformar la serie temporal en un conjunto de datos supervisado de la forma X -> y, donde X son las características **(features)** y y el valor a predecir **(label)**.\n",
        "\n",
        "Para predecir la tasa de interés del día t (valor objetivo y), usaremos como features datos conocidos hasta el día t-1. Según lo solicitado, incluiremos:\n",
        "\n",
        "- Lags **(rezagos)**: los valores de la serie en días previos, por ejemplo: t-1, t-2, t-3.\n",
        "- **Variables categórica**: información del calendario, como el día de la semana del día t (que queremos predecir). Esta variable es conocida de antemano (podemos saber qué día de la semana será t), por lo que es razonable utilizarla como predictor. La codificaremos en formato one-hot (es decir, 7 columnas binarias representando Lunes, Martes, ..., Domingo).\n",
        "\n",
        "Con esto, cada instancia de entrenamiento representará \"usa los valores de los últimos 3 días y el indicador de qué día será hoy para predecir el valor de hoy\".\n",
        "\n",
        "## 3.1 Generación de características de rezago (lags)\n",
        "Creamos nuevas columnas en el DataFrame para los lags:"
      ]
    },
    {
      "cell_type": "code",
      "execution_count": 4,
      "metadata": {
        "colab": {
          "base_uri": "https://localhost:8080/"
        },
        "id": "t30J86CMruuP",
        "outputId": "f81b6583-ec51-480a-f5e3-072b0c4c8227"
      },
      "outputs": [
        {
          "name": "stdout",
          "output_type": "stream",
          "text": [
            "Columnas del DataFrame después de añadir lags y día de semana:\n",
            "            DGS10  lag1  lag2  lag3  dia_semana\n",
            "DATE                                           \n",
            "2010-01-07   3.85  3.85  3.77  3.85           3\n",
            "2010-01-08   3.83  3.85  3.85  3.77           4\n",
            "2010-01-11   3.85  3.83  3.85  3.85           0\n"
          ]
        }
      ],
      "source": [
        "# Crear columnas de lags t-1, t-2, t-3\n",
        "df['lag1'] = df['DGS10'].shift(1)\n",
        "df['lag2'] = df['DGS10'].shift(2)\n",
        "df['lag3'] = df['DGS10'].shift(3)\n",
        "\n",
        "# Crear columna con el día de la semana de la fecha (0=Lunes, 6=Domingo)\n",
        "df['dia_semana'] = df.index.weekday  # Monday=0, Sunday=6\n",
        "\n",
        "# Eliminar filas iniciales con NaN generados por los lags\n",
        "df = df.dropna()\n",
        "print(\"Columnas del DataFrame después de añadir lags y día de semana:\")\n",
        "print(df.head(3))\n"
      ]
    },
    {
      "cell_type": "markdown",
      "metadata": {
        "id": "bZNE4ipxr7px"
      },
      "source": [
        "### Explicación:\n",
        "- `shift(1)` desplaza la serie una posición hacia adelante, de forma que en la fila con fecha t, `lag1` contiene el valor de` DGS10` en t-1. Hacemos lo mismo para lag2 y lag3.\n",
        "\n",
        "- `index.weekday` nos da el número de día de la semana de cada fecha (lunes=0, ..., domingo=6). Guardamos eso en la columna **dia_semana**. (Alternativamente, `index.dayofweek` funciona igual.)\n",
        "\n",
        "- Después de crear lags, las primeras 3 filas no tendrán valores válidos para lag1/lag2/lag3 (porque no existen días anteriores suficientes), resultando en NaN. Eliminamos esas filas con `dropna()` de nuevo.\n",
        "\n",
        "- Ahora *df* contiene columnas: **DGS10** (valor actual), `lag1, lag2, lag3, dia_semana` para cada fecha (excepto las primeras 3 que se eliminaron).\n",
        "\n",
        "## 3.2 One-Hot encoding de la variable categórica\n",
        "La columna **dia_semana** es numérica (0-6) pero representa una categoría. Usaremos codificación one-hot para convertirla en variables dummys. Esto significa crear 7 columnas (una por cada día de la semana) con valores 0/1 indicando el día.\n",
        "\n",
        "En nuestro dataset, cabe notar que la serie es de días hábiles, por lo que no tendremos muestras con día de semana = **5 o 6** (sábado, domingo) ya que no hay cotización esos días. Aun así, incluiremos las 7 categorías por generalidad.\n",
        "\n",
        "Usaremos `pd.get_dummies` para esta transformación:"
      ]
    },
    {
      "cell_type": "code",
      "execution_count": 5,
      "metadata": {
        "colab": {
          "base_uri": "https://localhost:8080/"
        },
        "id": "bHY83aKltMJF",
        "outputId": "9272e0d8-5526-4ff5-9c39-4392b572c31a"
      },
      "outputs": [
        {
          "name": "stdout",
          "output_type": "stream",
          "text": [
            "Ejemplo de one-hot encoding de día de semana:\n",
            "            dia_semana  diasem_0  diasem_1  diasem_2  diasem_3  diasem_4\n",
            "DATE                                                                    \n",
            "2010-01-07           3     False     False     False      True     False\n",
            "2010-01-08           4     False     False     False     False      True\n",
            "2010-01-11           0      True     False     False     False     False\n"
          ]
        }
      ],
      "source": [
        "# Aplicar one-hot encoding a la columna dia_semana\n",
        "dummies = pd.get_dummies(df['dia_semana'], prefix='diasem', drop_first=False)\n",
        "df_model = pd.concat([df, dummies], axis=1)\n",
        "\n",
        "# Verificar resultado de one-hot encoding, solo para los días presentes en los datos\n",
        "print(\"Ejemplo de one-hot encoding de día de semana:\")\n",
        "print(df_model[['dia_semana','diasem_0','diasem_1','diasem_2','diasem_3','diasem_4']].head(3)) # Only include days 0-4"
      ]
    },
    {
      "cell_type": "markdown",
      "metadata": {
        "id": "NaR8SE6SvrmB"
      },
      "source": [
        "### Explicación:\n",
        "- `pd.get_dummies(..., prefix='diasem') `crea columnas `diasem_0` ... `diasem_6` correspondientes a cada valor posible. Cada fila tendrá 1 en la columna del día correspondiente y 0 en las demás.\n",
        "\n",
        "- Concatenamos estas columnas dummy al DataFrame original `(pd.concat([...], axis=1))`.\n",
        "\n",
        "- Imprimimos unas filas para verificar. Por ejemplo, si `dia_semana = 0 (lunes) `en una fila, veremos `diasem_0=1` y los demás `diasem_1 ... diasem_6 = 0`.\n",
        "\n",
        "Ahora, df_model contiene todas las características necesarias. Las columnas relevantes para el modelo serán:\n",
        "\n",
        "- `lag1`, `lag2`, `lag3` (tres últimas observaciones numéricas).\n",
        "`diasem_0` ... `diasem_6` (variables indicadoras del día de la semana del día objetivo).\n",
        "- La columna objetivo (que queremos predecir) será el valor actual `DGS10`. Sin embargo, atención: si estamos usando `lag1`, `lag2`, `lag3` para predecir el valor actual, entonces al entrenar nuestro modelo, `X = [lag1, lag2, lag3, one-hot del día actual]` e `y = DGS10 actual`.\n",
        "## 3.3 División en conjunto de entrenamiento y prueba\n",
        "Para evaluar el desempeño del modelo necesitaremos separar datos de **entrenamiento** (training) y de **prueba** (testing). Dado que se trata de una serie temporal, la separación debe respetar el orden temporal (no usaremos aleatorización, ya que eso podría causar leakage de información futura en el entrenamiento).\n",
        "\n",
        "Dividiremos la serie de modo que las últimas fechas se reserven para prueba. Por ejemplo, usaremos datos hasta el año 2018 inclusive para entrenar, y dejaremos aproximadamente 2 años (2019-2020) para probar."
      ]
    },
    {
      "cell_type": "code",
      "execution_count": 6,
      "metadata": {
        "colab": {
          "base_uri": "https://localhost:8080/"
        },
        "id": "AKOjmaPmw9wN",
        "outputId": "fed933b3-9dc6-4639-b0f8-de6898f03cea"
      },
      "outputs": [
        {
          "name": "stdout",
          "output_type": "stream",
          "text": [
            "Datos de entrenamiento: 2999 muestras\n",
            "Datos de prueba: 750 muestras\n"
          ]
        }
      ],
      "source": [
        "# Determinar índice de corte para ~80% entrenamiento, 20% prueba (división temporal)\n",
        "train_frac = 0.8\n",
        "train_size = int(len(df_model) * train_frac)\n",
        "train_df = df_model.iloc[:train_size]\n",
        "test_df  = df_model.iloc[train_size:]\n",
        "\n",
        "print(f\"Datos de entrenamiento: {len(train_df)} muestras\")\n",
        "print(f\"Datos de prueba: {len(test_df)} muestras\")\n",
        "\n",
        "# Separar features X y target y para entrenamiento y prueba\n",
        "# Check for existing columns in the dataframes\n",
        "features = [col for col in ['lag1','lag2','lag3','diasem_0','diasem_1','diasem_2','diasem_3','diasem_4','diasem_5','diasem_6'] if col in train_df.columns] # Filter features based on existing columns\n",
        "target = 'DGS10'\n",
        "\n",
        "X_train = train_df[features].values\n",
        "y_train = train_df[target].values\n",
        "X_test  = test_df[features].values # Use the same filtered features for test data\n",
        "y_test  = test_df[target].values\n"
      ]
    },
    {
      "cell_type": "markdown",
      "metadata": {
        "id": "laEqIPKKxaLM"
      },
      "source": [
        "### Explicación:\n",
        "- Calculamos `train_size` como el 80% del total de muestras. Luego tomamos las primeras `train_size` filas como conjunto de entrenamiento, y el resto como prueba. Esto respeta la secuencia temporal.\n",
        "\n",
        "- Definimos la lista de nombres de columnas que serán las features de entrada al modelo (`features` incluye 3 lags + 7 dummies de día de semana = 10 features en total). La variable **target** es `'DGS10'`.\n",
        "\n",
        "- Creamos matrices numpy `X_train`, `y_train`, `X_test`,` y_test` extrayendo los valores (`.values`) de las respectivas columnas del DataFrame. Estas matrices serán usadas para entrenar y evaluar los modelos.\n",
        "\n",
        "## 3.4 Escalado de características (normalización)\n",
        "Es buena práctica normalizar o escalar los datos antes de entrenar redes neuronales, especialmente cuando se combinan variables de diferentes escalas (nuestros lags están en unidades de porcentaje de interés, ~0 a 5, mientras que los one-hot son 0/1). La normalización mejora la velocidad de convergencia y a veces el desempeño.\n",
        "\n",
        "Usaremos **Min-Max scaling** para escalar los valores numéricos de entrada (lags) al rango [0,1]. También escalaremos la variable objetivo` DGS10` para que la red aprenda más fácilmente las variaciones (luego convertiremos la predicción de vuelta a escala original). Las variables one-hot no necesitan escalado (ya son 0/1).\n",
        "\n",
        "**Nota**: Podríamos optar por Standardization (restar media y dividir por desviación estándar) en lugar de min-max. Cualquier método es válido; aquí usamos min-max por simplicidad de interpretación."
      ]
    },
    {
      "cell_type": "code",
      "execution_count": 7,
      "metadata": {
        "colab": {
          "base_uri": "https://localhost:8080/"
        },
        "id": "m7JMOH6cyVNq",
        "outputId": "c587ab1a-14e8-4099-b433-1dfd484c687a"
      },
      "outputs": [
        {
          "name": "stderr",
          "output_type": "stream",
          "text": [
            "c:\\Users\\aluca\\miniconda3\\envs\\ML_2\\lib\\site-packages\\sklearn\\utils\\validation.py:2739: UserWarning: X does not have valid feature names, but MinMaxScaler was fitted with feature names\n",
            "  warnings.warn(\n",
            "c:\\Users\\aluca\\miniconda3\\envs\\ML_2\\lib\\site-packages\\sklearn\\utils\\validation.py:2739: UserWarning: X does not have valid feature names, but MinMaxScaler was fitted with feature names\n",
            "  warnings.warn(\n",
            "c:\\Users\\aluca\\miniconda3\\envs\\ML_2\\lib\\site-packages\\sklearn\\utils\\validation.py:2739: UserWarning: X does not have valid feature names, but MinMaxScaler was fitted with feature names\n",
            "  warnings.warn(\n",
            "c:\\Users\\aluca\\miniconda3\\envs\\ML_2\\lib\\site-packages\\sklearn\\utils\\validation.py:2739: UserWarning: X does not have valid feature names, but MinMaxScaler was fitted with feature names\n",
            "  warnings.warn(\n"
          ]
        }
      ],
      "source": [
        "from sklearn.preprocessing import MinMaxScaler\n",
        "\n",
        "# Inicializar escaladores\n",
        "scaler_X = MinMaxScaler(feature_range=(0,1))\n",
        "scaler_y = MinMaxScaler(feature_range=(0,1))\n",
        "\n",
        "# Ajustar escalador de X solo con datos de entrenamiento (para evitar look-ahead bias)\n",
        "# Importante: solo escalamos las columnas de lags, no las dummies (estas ya están entre 0 y 1).\n",
        "scaler_X.fit(train_df[['lag1','lag2','lag3']])\n",
        "\n",
        "# Aplicar transformacion a lags de entrenamiento y prueba\n",
        "X_train_scaled = X_train.copy()\n",
        "X_test_scaled = X_test.copy()\n",
        "X_train_scaled[:, :3] = scaler_X.transform(X_train[:, :3])\n",
        "X_test_scaled[:, :3] = scaler_X.transform(X_test[:, :3])\n",
        "\n",
        "# Ajustar y aplicar escalador de y (target)\n",
        "scaler_y.fit(train_df[['DGS10']])\n",
        "y_train_scaled = scaler_y.transform(y_train.reshape(-1,1)).flatten()\n",
        "y_test_scaled = scaler_y.transform(y_test.reshape(-1,1)).flatten()\n"
      ]
    },
    {
      "cell_type": "markdown",
      "metadata": {
        "id": "2G8HZDNAyanD"
      },
      "source": [
        "### Explicación:\n",
        "Creamos dos escaladores `MinMaxScaler:` uno para X y otro para y.\n",
        "\n",
        "- Ajustamos `scaler_X` **sólo con datos de entrenamiento** `(fit(train_df[['lag1','lag2','lag3']]))`. Esto es crucial: el modelo no debe conocer estadísticas del conjunto de prueba durante el entrenamiento. (Las columnas dummy se omiten en el escalado ya que no requieren cambio.)\n",
        "\n",
        "- Transformamos las matrices de entrada: copiamos `X_train` y `X_test` a nuevas variables `X_train_scaled`, `X_test_scaled` y reemplazamos las columnas 0:3 (los lags) con sus valores escalados.\n",
        "\n",
        "- Para el objetivo `y`, ajustamos `scaler_y` con los valores de` DGS10` de entrenamiento, luego transformamos `y_train` y `y_test`. Obtenemos `y_train_scaled`, `y_test_scaled` listos para usar en la red.\n",
        "\n",
        "- Al final de este proceso, tanto las características numéricas como el target están en el rango [0,1]. (Las dummy remain 0/1, ya dentro de ese rango.)\n",
        "\n",
        "\n",
        "Ahora nuestros datos están listos: `X_train_scaled` (shape `[num_train_samples, 10 features]`), `y_train_scaled` (valor escala 0-1), y análogamente para prueba.\n",
        "\n",
        "## 4. Construcción de los Modelos de Redes Neuronales\n",
        "Pasaremos ahora a definir los tres modelos en PyTorch: MLP, LSTM y CNN. Antes de implementar cada uno, expliquemos brevemente sus características en este contexto:\n",
        "\n",
        "- **Perceptrón Multicapa (MLP):** una red neuronal feed-forward tradicional que tomará el vector de características de entrada (los 3 lags + 7 one-hots) y producirá una predicción. No tiene memoria interna de secuencia; aprende relaciones estáticas entre las features y el target.\n",
        "\n",
        "- **Red LSTM**: un tipo de red recurrente especializada en secuencias largas. Le pasaremos la secuencia temporal de lags como entrada (ej. los últimos 3 valores uno tras otro) y la red mantendrá un estado interno que puede ayudarla a capturar dependencias temporales. Combinaremos la salida de la LSTM con la variable categórica (día de la semana) para predecir el valor.\n",
        "\n",
        "- **Red CNN 1D**: usaremos una red convolucional que aplica filtros sobre la secuencia de lags para extraer patrones locales (por ejemplo, tendencias entre días consecutivos). Luego, combinaremos esas características con la variable categórica y usaremos una capa densa para la predicción.\n",
        "\n",
        "# 4.1 Modelo Perceptrón Multicapa (MLP)\n",
        "Nuestro MLP será relativamente sencillo: tomará un vector de 10 entradas (3 lags + 7 dummies) y pasará por una o dos capas ocultas totalmente conectadas (fully connected), usando una función de activación no lineal (ReLU), para finalmente producir un único valor de salida (la predicción de la tasa de interés normalizada).\n",
        "\n",
        "Definamos el modelo MLP en PyTorch:"
      ]
    },
    {
      "cell_type": "code",
      "execution_count": 8,
      "metadata": {
        "colab": {
          "base_uri": "https://localhost:8080/"
        },
        "id": "-Tq5X2cQ0HqF",
        "outputId": "f79cdcf7-22e4-438e-a51f-fbd26d5674ab"
      },
      "outputs": [
        {
          "name": "stdout",
          "output_type": "stream",
          "text": [
            "MLP(\n",
            "  (hidden): Linear(in_features=8, out_features=20, bias=True)\n",
            "  (out): Linear(in_features=20, out_features=1, bias=True)\n",
            "  (act): ReLU()\n",
            ")\n"
          ]
        }
      ],
      "source": [
        "import torch\n",
        "import torch.nn as nn\n",
        "\n",
        "# Definir el modelo MLP\n",
        "class MLP(nn.Module):\n",
        "    def __init__(self, input_dim, hidden_dim):\n",
        "        super(MLP, self).__init__()\n",
        "        # Capa oculta\n",
        "        self.hidden = nn.Linear(input_dim, hidden_dim)\n",
        "        # Capa de salida\n",
        "        self.out = nn.Linear(hidden_dim, 1)\n",
        "        # Función de activación\n",
        "        self.act = nn.ReLU()\n",
        "\n",
        "    def forward(self, x):\n",
        "        # x tiene forma [batch_size, input_dim]\n",
        "        h = self.act(self.hidden(x))\n",
        "        y_pred = self.out(h)\n",
        "        return y_pred\n",
        "\n",
        "# Inicializar MLP con dimensiones\n",
        "input_dim = X_train_scaled.shape[1]   # debería ser 10\n",
        "hidden_dim = 20  # escogemos 16 neuronas en la capa oculta (hiperparámetro ajustable)\n",
        "model_mlp = MLP(input_dim, hidden_dim)\n",
        "print(model_mlp)\n"
      ]
    },
    {
      "cell_type": "markdown",
      "metadata": {
        "id": "MI8BJceT1IHx"
      },
      "source": [
        "### Explicación:\n",
        "- Creamos una clase` MLP` que hereda de `nn.Module`. En el `__init__` definimos las capas:\n",
        "\n",
        " - `hidden`: una capa lineal de **input_dim** (10) a **hidden_dim** neuronas (hemos elegido 16 arbitrariamente como ejemplo).\n",
        " - `out`: capa lineal de `hidden_dim `a 1 (la predicción).\n",
        " - `act`: la función de activación ReLU que aplicaremos entre la capa oculta y la de salida.\n",
        "- En `forward`, definimos la propagación:\n",
        "\n",
        " - `x` es el tensor de entrada de tamaño `[batch_size, 10]`.\n",
        " - Aplicamos la capa oculta seguida de ReLU: `h = self.act(self.hidden(x))`.\n",
        " - Luego sacamos la predicción lineal: `y_pred = self.out(h)` (tendrá tamaño `[batch_size, 1]`).\n",
        "- Creamos una instancia `model_mlp`. Imprimimos `model_mlp` para ver la estructura (PyTorch implementa `__repr__ `para mostrar las capas).\n"
      ]
    },
    {
      "cell_type": "markdown",
      "metadata": {
        "id": "LQboaDaV2ffm"
      },
      "source": [
        "Podríamos agregar más capas ocultas o neuronas si quisiéramos un modelo más complejo, pero para este ejercicio lo mantendremos así.\n",
        "\n",
        "## 4.2 Modelo LSTM para serie temporal\n",
        "El modelo LSTM necesita manejar secuencias. En nuestro caso, la secuencia de entrada será la serie de los últimos 3 valores (lags) para cada predicción.\n",
        "\n",
        "A diferencia del MLP, la LSTM leerá los valores uno por uno en orden temporal y mantendrá un estado interno (memoria) mientras avanza. Una vez procesados los 3 pasos de la secuencia, la LSTM producirá una representación (estado oculto final) que usaremos para predecir el valor.\n",
        "\n",
        "Adicionalmente, queremos incorporar la variable categórica \"día de la semana\" del día objetivo. Una forma sencilla es:\n",
        "\n",
        "1. Procesar la secuencia de valores con la LSTM.\n",
        "2. Tomar la salida oculta final de la LSTM (un vector).\n",
        "3. Concatenar este vector con la representación one-hot del día de la semana.\n",
        "4. Pasar todo junto por una capa lineal final para obtener la predicción.\n",
        "\n",
        "\n",
        "Vamos a implementar esta arquitectura. Primero, necesitamos dar forma a nuestros datos para la LSTM:\n",
        "\n",
        "- PyTorch LSTM espera input de forma `(seq_len, batch, input_size)` por defecto, o `(batch, seq_len, input_size)` si especificamos `batch_first=True`.\n",
        "\n",
        "- Es más intuitivo usar `batch_first=True`. Entonces cada entrada X a la LSTM tendrá forma `[batch_size, seq_len, input_size]`.\n",
        "- En nuestro caso, `seq_len = 3` (los pasos t-3, t-2, t-1) y `input_size = 1` (una característica por paso: el valor de la serie).\n",
        "\n",
        "- ¿Por qué 1? Porque vamos a dejar que la LSTM vea solo la secuencia de valores. (También podríamos alimentarla con más características por paso si tuviéramos, pero las únicas variables cambiantes con el tiempo en nuestro problema son los valores de la serie; la categórica es estática para la predicción.)\n",
        "\n",
        "Preparamos los tensores para LSTM:"
      ]
    },
    {
      "cell_type": "code",
      "execution_count": 9,
      "metadata": {
        "id": "5zu6zuZd3aDo"
      },
      "outputs": [],
      "source": [
        "# Convertir los datos escalados a tensores de PyTorch\n",
        "X_train_tensor = torch.tensor(X_train_scaled.astype(np.float32), dtype=torch.float32)\n",
        "X_test_tensor = torch.tensor(X_test_scaled.astype(np.float32), dtype=torch.float32)\n",
        "y_train_tensor = torch.tensor(y_train_scaled, dtype=torch.float32)\n",
        "y_test_tensor = torch.tensor(y_test_scaled, dtype=torch.float32)\n",
        "\n",
        "# Reformatear X para LSTM: de [batch, features] a [batch, seq_len, input_size]\n",
        "# En X_train_scaled, las primeras 3 columnas son los lags; las columnas 3-9 son las dummies.\n",
        "# Para LSTM, tomaremos sólo los lags como secuencia de longitud 3, y manejaremos las dummies por separado.\n",
        "seq_len = 3\n",
        "# Extraer las columnas de lags como secuencia\n",
        "X_train_seq = X_train_tensor[:, :seq_len]  # shape [batch, 3]\n",
        "X_test_seq = X_test_tensor[:, :seq_len]\n",
        "# Añadir dimensión de input_size=1 para cada valor\n",
        "X_train_seq = X_train_seq.unsqueeze(2)  # shape [batch, 3, 1]\n",
        "X_test_seq = X_test_seq.unsqueeze(2)    # shape [batch, 3, 1]\n",
        "# Extraer las one-hot dummies aparte\n",
        "X_train_dow = X_train_tensor[:, seq_len:]  # shape [batch, 7]\n",
        "X_test_dow = X_test_tensor[:, seq_len:]    # shape [batch, 7]"
      ]
    },
    {
      "cell_type": "markdown",
      "metadata": {
        "id": "ySHLeqtu3wX7"
      },
      "source": [
        "### Explicación:\n",
        "- Convertimos los arrays numpy escalados a tensores de `torch.FloatTensor`.\n",
        "- Luego dividimos esos tensores para la LSTM:\n",
        " - `X_train_seq`: tomamos :`seq_len` (o sea columnas 0,1,2 que corresponden a lag1, lag2, lag3 escalados). Esto da un tensor de shape `[batch, 3]`. Luego con `unsqueeze(2)` convertimos a `[batch, 3, 1]` que es `[batch, seq_len, input_size]` con `input_size=1`.\n",
        " - `X_train_dow`: tomamos las columnas restantes `3`: (que corresponden a diasem_0 ... diasem_6, total 7 columnas). `X_train_dow` tendrá shape `[batch, 7]`. No necesita reshaping adicional porque la usaremos como vector estático.\n",
        " - Hacemos lo mismo para `X_test`.\n",
        "- Ahora tenemos:\n",
        " - `X_train_seq` lista para la LSTM (secuencia de valores).\n",
        " - `X_train_dow` lista para concatenar luego (one-hot del día objetivo).\n",
        " - `y_train_tensor` como vector de targets correspondientes.\n",
        "\n",
        "Ahora definamos el modelo LSTM con la arquitectura descrita:"
      ]
    },
    {
      "cell_type": "code",
      "execution_count": 10,
      "metadata": {
        "colab": {
          "base_uri": "https://localhost:8080/"
        },
        "id": "23yrvlfW_H-O",
        "outputId": "54a55bda-32ed-429e-e50b-77989cae2601"
      },
      "outputs": [
        {
          "name": "stdout",
          "output_type": "stream",
          "text": [
            "LSTMModel(\n",
            "  (lstm): LSTM(1, 32, batch_first=True)\n",
            "  (fc): Linear(in_features=37, out_features=1, bias=True)\n",
            ")\n"
          ]
        }
      ],
      "source": [
        "class LSTMModel(nn.Module):\n",
        "    def __init__(self, input_size, hidden_size, num_layers, dow_feature_size):\n",
        "        super(LSTMModel, self).__init__()\n",
        "        self.hidden_size = hidden_size\n",
        "        # Capa LSTM\n",
        "        self.lstm = nn.LSTM(input_size=input_size, hidden_size=hidden_size, num_layers=num_layers, batch_first=True)\n",
        "        # Capa final totalmente conectada: toma hidden_state + one-hot día_semana\n",
        "        self.fc = nn.Linear(hidden_size + dow_feature_size, 1)\n",
        "\n",
        "    def forward(self, seq, dow_onehot):\n",
        "        # seq: [batch, seq_len, input_size]\n",
        "        # dow_onehot: [batch, dow_feature_size]\n",
        "        batch_size = seq.size(0)\n",
        "        # LSTM forward\n",
        "        lstm_out, (h_n, c_n) = self.lstm(seq)\n",
        "        # lstm_out: [batch, seq_len, hidden_size] (porque batch_first=True)\n",
        "        # h_n: [num_layers, batch, hidden_size] -> estado oculto final de cada capa\n",
        "        # Tomamos el estado oculto de la última capa de LSTM para el último elemento de la secuencia:\n",
        "        # Podemos obtenerlo de lstm_out directamente (último tiempo):\n",
        "        last_hidden = lstm_out[:, -1, :]  # shape [batch, hidden_size]\n",
        "        # Concatenar con vector one-hot\n",
        "        combined = torch.cat((last_hidden, dow_onehot), dim=1)  # shape [batch, hidden_size + dow_feature_size]\n",
        "        # Pasar por la capa totalmente conectada para obtener predicción\n",
        "        y_pred = self.fc(combined)\n",
        "        return y_pred\n",
        "\n",
        "# Inicializar el modelo LSTM\n",
        "input_size = 1        # un valor de serie por tiempo\n",
        "hidden_size = 32      # tamaño del estado oculto LSTM (hiperparámetro, aquí 32 neuronas)\n",
        "num_layers = 1        # una capa LSTM (podríamos usar más)\n",
        "dow_feature_size = X_train_dow.shape[1]  # tamaño de vector one-hot de día de semana (debería ser 7)\n",
        "model_lstm = LSTMModel(input_size, hidden_size, num_layers, dow_feature_size)\n",
        "print(model_lstm)\n"
      ]
    },
    {
      "cell_type": "markdown",
      "metadata": {
        "id": "Oc9dzu5h_S1-"
      },
      "source": [
        "### Explicación del modelo LSTM:\n",
        "- La clase `LSTMModel` tiene en `__init__`:\n",
        " - `self.lstm`: la capa LSTM de PyTorch. Le pasamos `input_size=1` (cada paso tiene un valor), `hidden_size=32` (número de neuronas internas), `num_layers=1` (una sola capa LSTM), `batch_first=True` para que espere entrada `[batch, seq, features]`.\n",
        " - `self.fc`: una capa lineal que toma como entrada el vector concatenado de tamaño `hidden_size + dow_feature_size` y produce una salida de tamaño 1.\n",
        "- En `forward`:\n",
        " - Hacemos `lstm_out, (h_n, c_n) = self.lstm(seq)`. PyTorch devuelve la secuencia de salidas de la LSTM (`lstm_out`) y los estados ocultos y de celda finales (`h_n, c_n`) de cada capa.\n",
        " - `lstm_out` tiene dimensión `[batch, seq_len, hidden_size] `(`porque batch_first=True`). El último paso temporal de la secuencia para la última capa LSTM se puede obtener como `lstm_out[:, -1, :]` (último índice de la dimensión temporal).\n",
        " - Alternativamente, podríamos usar `h_n` que tiene shape `[num_layers, batch, hidden_size]` y tomar `h_n[-1]` (estado final de la última capa), que nos da lo mismo.\n",
        " - Nombramos esto last_hidden, que representa la codificación de la secuencia de lags.\n",
        "\n",
        " - Concatenamos `last_hidden` con `dow_onehot` (el vector one-hot del día de la semana) a lo largo de la dimensión de features -> `combined`.\n",
        " - Pasamos `combined` por la capa` fc `para obtener `y_pred`.\n",
        "\n",
        "Aquí `in_features=37` porque concatenamos 32 (hidden) + 5 (día semana).\n"
      ]
    },
    {
      "cell_type": "markdown",
      "metadata": {
        "id": "B3qqo67ABOBW"
      },
      "source": [
        "## 4.3 Modelo CNN 1D para serie temporal\n",
        "La red convolucional 1D tomará también la secuencia de los últimos 3 valores como entrada, pero en lugar de procesarlos recurrentemente, aplicará filtros convolucionales que recorren la secuencia.\n",
        "\n",
        "Un filtro de convolución 1D de tamaño kernel=2, por ejemplo, aprenderá a calcular combinaciones lineales de cada par de valores consecutivos. Múltiples filtros pueden aprender diversos patrones (por ejemplo: subida seguida de bajada, etc.). Con kernel=3, un filtro vería los 3 valores a la vez (capturando una relación de todos ellos). Para demostrar la idea de patrones locales, usaremos kernel_size=2 en la primera capa.\n",
        "\n",
        "Diseñaremos la CNN así:\n",
        "- Capa Conv1d: entrada con 1 canal (la serie) y digamos 16 filtros, tamaño de kernel 2.\n",
        "- Capa de activación ReLU.\n",
        "\n",
        "- (Opcional: Pooling. En este caso, como la secuencia es tan corta, podríamos no aplicar pooling).\n",
        "- Aplanar (flatten) la salida de la conv.\n",
        "- Concatenar con el vector one-hot del día de la semana (como hicimos con LSTM).\n",
        "- Capa fully connected final para predecir.\n",
        "\n",
        "Primero, necesitamos preparar los datos para la conv. PyTorch Conv1d espera entrada de forma `[batch, channels, seq_len]`. Actualmente, para LSTM preparamos `X_train_seq` como `[batch, seq_len, 1]`. Para conv, podemos simplemente transponer esa a `[batch, 1, seq_len]` (o crear de nuevo en ese orden). Es básicamente la misma información, solo reorganizada."
      ]
    },
    {
      "cell_type": "code",
      "execution_count": 11,
      "metadata": {
        "id": "jAmd-MNnB06M"
      },
      "outputs": [],
      "source": [
        "# Preparar entrada para CNN: [batch, channels, seq_len]\n",
        "X_train_cnn = X_train_seq.permute(0, 2, 1)  # va de [batch, seq_len, 1] a [batch, 1, seq_len]\n",
        "X_test_cnn = X_test_seq.permute(0, 2, 1)\n",
        "# (X_train_dow y X_test_dow siguen igual para concatenarlos luego)\n"
      ]
    },
    {
      "cell_type": "markdown",
      "metadata": {
        "id": "0O7o45wRB69E"
      },
      "source": [
        "Ahora definimos el modelo CNN:"
      ]
    },
    {
      "cell_type": "code",
      "execution_count": 12,
      "metadata": {
        "colab": {
          "base_uri": "https://localhost:8080/"
        },
        "id": "nNsUj2W_B5JA",
        "outputId": "d834cfa2-ed28-4c8b-be8b-501b78fa5e0a"
      },
      "outputs": [
        {
          "name": "stdout",
          "output_type": "stream",
          "text": [
            "CNNModel(\n",
            "  (conv1): Conv1d(1, 16, kernel_size=(2,), stride=(1,))\n",
            "  (act): ReLU()\n",
            "  (fc): Linear(in_features=37, out_features=1, bias=True)\n",
            ")\n"
          ]
        }
      ],
      "source": [
        "class CNNModel(nn.Module):\n",
        "    def __init__(self, in_channels, out_channels, kernel_size, dow_feature_size):\n",
        "        super(CNNModel, self).__init__()\n",
        "        # Capa convolucional\n",
        "        self.conv1 = nn.Conv1d(in_channels=in_channels, out_channels=out_channels, kernel_size=kernel_size)\n",
        "        # Función de activación\n",
        "        self.act = nn.ReLU()\n",
        "        # Capa de aplanamiento (podemos usar nn.Flatten o lo haremos manual en forward)\n",
        "        # Capa final fully-connected\n",
        "        # Nota: necesitamos calcular el tamaño de entrada a esta capa luego de la conv.\n",
        "        # Si seq_len = 3 y kernel_size=2, la salida de conv tendrá longitud 2 (3-2+1=2).\n",
        "        # out_channels = 16, entonces total features = 16*2 = 32. Luego se concatenan 7 dummies -> 39.\n",
        "        conv_output_size = out_channels * (seq_len - kernel_size + 1)\n",
        "        self.fc = nn.Linear(conv_output_size + dow_feature_size, 1)\n",
        "\n",
        "    def forward(self, x, dow_onehot):\n",
        "        # x: [batch, 1, seq_len]\n",
        "        h = self.act(self.conv1(x))        # h: [batch, out_channels, L_out] con L_out = seq_len - kernel_size + 1\n",
        "        # Aplanar salida convolucional\n",
        "        h_flat = h.view(h.size(0), -1)     # shape [batch, out_channels * L_out]\n",
        "        # Concatenar con one-hot de día semana\n",
        "        combined = torch.cat((h_flat, dow_onehot), dim=1)  # [batch, conv_output_size + dow_feature_size]\n",
        "        y_pred = self.fc(combined)\n",
        "        return y_pred\n",
        "\n",
        "# Inicializar modelo CNN\n",
        "in_channels = 1\n",
        "out_channels = 16\n",
        "kernel_size = 2\n",
        "dow_feature_size = X_train_dow.shape[1]  # 7\n",
        "model_cnn = CNNModel(in_channels, out_channels, kernel_size, dow_feature_size)\n",
        "print(model_cnn)\n"
      ]
    },
    {
      "cell_type": "markdown",
      "metadata": {
        "id": "GMvOGeP2CEM4"
      },
      "source": [
        "### Explicación del modelo CNN:\n",
        "- En `__init__`:\n",
        " - Definimos `conv1 `como una capa Conv1d. `in_channels=1` (tenemos una serie univariada), `out_channels=16` (cantidad de filtros), `kernel_size=2` (el filtro cubre 2 pasos de la secuencia a la vez).\n",
        " - Definimos `ReLU` como activación `self.act`.\n",
        " - Calculamos `conv_output_size`: dada la longitud de secuencia 3 y kernel 2, la salida de la `conv` tendrá longitud `L_out = 3-2+1 = 2` posiciones. Con 16 filtros, la salida de conv1 será de dimensión `[batch, 16, 2]`. Aplanada, son 32 valores por ejemplo. Sumamos `dow_feature_size `(7) = total 39, igual que en LSTM.\n",
        " - Definimos `self.fc `como linear de entrada 39 a salida 1.\n",
        "- En forward:\n",
        " - Aplicamos la conv seguida de ReLU: `h = self.act(self.conv1(x))`. h tendrá shape` [batch, out_channels, L_out] = [batch, 16, 2]` en este caso.\n",
        " - Aplanamos h a h_flat de shape `[batch, 32]` (si 16*2=32).\n",
        " - Concatenamos con dow_onehot (shape `[batch,7]`) obteniendo combined de `[batch,39]`.\n",
        " - Pasamos por fc para obtener `y_pred` de shape `[batch,1]`.\n",
        "- Inicializamos `model_cnn`.\n",
        "\n",
        "Ahora tenemos las tres redes definidas:` model_mlp`, `model_lstm`, `model_cnn`."
      ]
    },
    {
      "cell_type": "markdown",
      "metadata": {
        "id": "x8BO28dVDbQ5"
      },
      "source": [
        "# 5. Entrenamiento de los Modelos\n",
        "Entrenaremos cada modelo por separado con los datos de entrenamiento preparados. Utilizaremos la misma configuración de entrenamiento para facilitar la comparación:\n",
        "\n",
        "- Función de pérdida: dado que es un problema de regresión, usaremos el Error Cuadrático Medio (MSE) o el Error Absoluto Medio (MAE). Aquí optaremos por MSE.\n",
        "- Optimizador: usaremos Adam (un algoritmo de gradiente descendente adaptativo) con una tasa de aprendizaje (`lr`) fijada (ej. 0.01).\n",
        "- Entrenaremos por un cierto número de épocas (iteraciones completas sobre el dataset de entrenamiento), por ejemplo 100. (En problemas reales, se podría usar early stopping o más épocas según convergencia, pero aquí mantendremos un número fijo para comparación.)\n",
        "- Para el MLP y CNN, entrenar es directo con las batches de datos. Para LSTM, es similar, solo que debemos alimentar la secuencia y la variable categórica separadas.\n",
        "\n",
        "También evaluaremos el error en el conjunto de prueba después del entrenamiento de cada modelo, para comparar.\n",
        "\n",
        "Primero, definamos una rutina de entrenamiento general que podamos reutilizar:"
      ]
    },
    {
      "cell_type": "code",
      "execution_count": 13,
      "metadata": {
        "id": "eKi1xIAADXT4"
      },
      "outputs": [],
      "source": [
        "# Configurar entrenamiento\n",
        "num_epochs = 100\n",
        "learning_rate = 0.01\n",
        "\n",
        "loss_fn = nn.MSELoss()  # función de pérdida: Mean Squared Error\n",
        "# Optimizadores para cada modelo (podríamos entrenar secuencialmente)\n",
        "optimizer_mlp = torch.optim.Adam(model_mlp.parameters(), lr=learning_rate)\n",
        "optimizer_lstm = torch.optim.Adam(model_lstm.parameters(), lr=learning_rate)\n",
        "optimizer_cnn = torch.optim.Adam(model_cnn.parameters(), lr=learning_rate)\n"
      ]
    },
    {
      "cell_type": "markdown",
      "metadata": {
        "id": "KO-SfYvrDy8w"
      },
      "source": [
        "## 5.1 Entrenamiento del MLP"
      ]
    },
    {
      "cell_type": "code",
      "execution_count": 14,
      "metadata": {
        "colab": {
          "base_uri": "https://localhost:8080/"
        },
        "id": "N5BmmeV3D2xg",
        "outputId": "7f387773-3e4c-4c36-9715-9c49d608ec1a"
      },
      "outputs": [
        {
          "name": "stdout",
          "output_type": "stream",
          "text": [
            "Epoch 10/100 - MSE entrenamiento: 0.043759 - MSE prueba: 0.018445\n",
            "Epoch 20/100 - MSE entrenamiento: 0.017481 - MSE prueba: 0.099945\n",
            "Epoch 30/100 - MSE entrenamiento: 0.007887 - MSE prueba: 0.013164\n",
            "Epoch 40/100 - MSE entrenamiento: 0.003891 - MSE prueba: 0.016985\n",
            "Epoch 50/100 - MSE entrenamiento: 0.001409 - MSE prueba: 0.002264\n",
            "Epoch 60/100 - MSE entrenamiento: 0.000704 - MSE prueba: 0.002386\n",
            "Epoch 70/100 - MSE entrenamiento: 0.000506 - MSE prueba: 0.000914\n",
            "Epoch 80/100 - MSE entrenamiento: 0.000441 - MSE prueba: 0.000814\n",
            "Epoch 90/100 - MSE entrenamiento: 0.000391 - MSE prueba: 0.000925\n",
            "Epoch 100/100 - MSE entrenamiento: 0.000357 - MSE prueba: 0.000915\n"
          ]
        }
      ],
      "source": [
        "# Entrenar el modelo MLP\n",
        "for epoch in range(num_epochs):\n",
        "    model_mlp.train()  # modo entrenamiento\n",
        "    optimizer_mlp.zero_grad()\n",
        "    # Forward pass: MLP toma directamente X_train_tensor (todas features)\n",
        "    y_pred = model_mlp(X_train_tensor)\n",
        "    # Calcular pérdida\n",
        "    loss = loss_fn(y_pred.flatten(), y_train_tensor)  # flatten pred para comparar con vector\n",
        "    # Backpropagation\n",
        "    loss.backward()\n",
        "    optimizer_mlp.step()\n",
        "\n",
        "    # (Opcional) imprimir cada 10 épocas\n",
        "    if (epoch+1) % 10 == 0:\n",
        "        train_mse = loss.item()\n",
        "        # Calcular MSE en prueba sin gradiente\n",
        "        model_mlp.eval()\n",
        "        with torch.no_grad():\n",
        "            y_pred_test = model_mlp(X_test_tensor)\n",
        "            test_loss = loss_fn(y_pred_test.flatten(), y_test_tensor)\n",
        "        print(f\"Epoch {epoch+1}/{num_epochs} - MSE entrenamiento: {train_mse:.6f} - MSE prueba: {test_loss.item():.6f}\")\n"
      ]
    },
    {
      "cell_type": "markdown",
      "metadata": {
        "id": "G1-MD_9kD9vZ"
      },
      "source": [
        "5.2 Entrenamiento de la LSTM"
      ]
    },
    {
      "cell_type": "code",
      "execution_count": 15,
      "metadata": {
        "colab": {
          "base_uri": "https://localhost:8080/"
        },
        "id": "mpkcS4aWD-b3",
        "outputId": "7d1aef58-d9fe-4214-906c-a65f2d7e7205"
      },
      "outputs": [
        {
          "name": "stdout",
          "output_type": "stream",
          "text": [
            "Epoch 10/100 - MSE entrenamiento: 0.048770 - MSE prueba: 0.093421\n",
            "Epoch 20/100 - MSE entrenamiento: 0.029469 - MSE prueba: 0.159256\n",
            "Epoch 30/100 - MSE entrenamiento: 0.016223 - MSE prueba: 0.062092\n",
            "Epoch 40/100 - MSE entrenamiento: 0.005203 - MSE prueba: 0.004444\n",
            "Epoch 50/100 - MSE entrenamiento: 0.001181 - MSE prueba: 0.015222\n",
            "Epoch 60/100 - MSE entrenamiento: 0.001211 - MSE prueba: 0.006356\n",
            "Epoch 70/100 - MSE entrenamiento: 0.000775 - MSE prueba: 0.000629\n",
            "Epoch 80/100 - MSE entrenamiento: 0.000544 - MSE prueba: 0.000655\n",
            "Epoch 90/100 - MSE entrenamiento: 0.000466 - MSE prueba: 0.000868\n",
            "Epoch 100/100 - MSE entrenamiento: 0.000393 - MSE prueba: 0.000700\n"
          ]
        }
      ],
      "source": [
        "# Entrenar el modelo LSTM\n",
        "for epoch in range(num_epochs):\n",
        "    model_lstm.train()\n",
        "    optimizer_lstm.zero_grad()\n",
        "    # Forward: LSTM necesita secuencia y one-hot por separado\n",
        "    y_pred = model_lstm(X_train_seq, X_train_dow)\n",
        "    loss = loss_fn(y_pred.flatten(), y_train_tensor)\n",
        "    loss.backward()\n",
        "    optimizer_lstm.step()\n",
        "\n",
        "    if (epoch+1) % 10 == 0:\n",
        "        model_lstm.eval()\n",
        "        with torch.no_grad():\n",
        "            y_pred_test = model_lstm(X_test_seq, X_test_dow)\n",
        "            test_loss = loss_fn(y_pred_test.flatten(), y_test_tensor)\n",
        "        print(f\"Epoch {epoch+1}/{num_epochs} - MSE entrenamiento: {loss.item():.6f} - MSE prueba: {test_loss.item():.6f}\")\n"
      ]
    },
    {
      "cell_type": "markdown",
      "metadata": {
        "id": "vSS7lQrLEFDs"
      },
      "source": [
        "## 5.3 Entrenamiento de la CNN"
      ]
    },
    {
      "cell_type": "code",
      "execution_count": 16,
      "metadata": {
        "colab": {
          "base_uri": "https://localhost:8080/"
        },
        "id": "PHZ-WWgOEGol",
        "outputId": "05aaaf18-2fa3-43ab-b63e-337395cbb0d3"
      },
      "outputs": [
        {
          "name": "stdout",
          "output_type": "stream",
          "text": [
            "Epoch 10/100 - MSE entrenamiento: 0.018602 - MSE prueba: 0.101949\n",
            "Epoch 20/100 - MSE entrenamiento: 0.008408 - MSE prueba: 0.014028\n",
            "Epoch 30/100 - MSE entrenamiento: 0.002945 - MSE prueba: 0.011706\n",
            "Epoch 40/100 - MSE entrenamiento: 0.000665 - MSE prueba: 0.000899\n",
            "Epoch 50/100 - MSE entrenamiento: 0.000824 - MSE prueba: 0.001200\n",
            "Epoch 60/100 - MSE entrenamiento: 0.000382 - MSE prueba: 0.000633\n",
            "Epoch 70/100 - MSE entrenamiento: 0.000372 - MSE prueba: 0.001142\n",
            "Epoch 80/100 - MSE entrenamiento: 0.000340 - MSE prueba: 0.001032\n",
            "Epoch 90/100 - MSE entrenamiento: 0.000318 - MSE prueba: 0.000806\n",
            "Epoch 100/100 - MSE entrenamiento: 0.000310 - MSE prueba: 0.000788\n"
          ]
        }
      ],
      "source": [
        "# Entrenar el modelo CNN\n",
        "for epoch in range(num_epochs):\n",
        "    model_cnn.train()\n",
        "    optimizer_cnn.zero_grad()\n",
        "    # Forward: CNN también toma secuencia (como [batch,1,seq_len]) y one-hot\n",
        "    y_pred = model_cnn(X_train_cnn, X_train_dow)\n",
        "    loss = loss_fn(y_pred.flatten(), y_train_tensor)\n",
        "    loss.backward()\n",
        "    optimizer_cnn.step()\n",
        "\n",
        "    if (epoch+1) % 10 == 0:\n",
        "        model_cnn.eval()\n",
        "        with torch.no_grad():\n",
        "            y_pred_test = model_cnn(X_test_cnn, X_test_dow)\n",
        "            test_loss = loss_fn(y_pred_test.flatten(), y_test_tensor)\n",
        "        print(f\"Epoch {epoch+1}/{num_epochs} - MSE entrenamiento: {loss.item():.6f} - MSE prueba: {test_loss.item():.6f}\")\n"
      ]
    },
    {
      "cell_type": "markdown",
      "metadata": {
        "id": "jxKBryIpEMUz"
      },
      "source": [
        "# 6. Evaluación de Desempeño\n",
        "Usaremos las métricas **MAE (Mean Absolute Error)** y **RMSE (Root Mean Squared Error)** para cuantificar el desempeño en el conjunto de prueba, comparando las predicciones de cada modelo contra los valores reales. Estas métricas se interpretan así:\n",
        "\n",
        "- **MAE**: promedio del valor absoluto de los errores. Indica en promedio cuánto se desvía la predicción.\n",
        "- **RMSE**: raíz cuadrada del error cuadrático medio (MSE). Penaliza más los errores grandes al cuadrado antes de promediar y luego devuelve a la escala original.\n",
        "\n",
        "Primero obtendremos las predicciones finales de cada modelo en el conjunto de prueba (recordando que están normalizadas). Luego invertiremos la normalización para obtener las predicciones en la escala original (porcentaje de tasa de interés) para interpretarlas y calcular métricas."
      ]
    },
    {
      "cell_type": "code",
      "execution_count": 17,
      "metadata": {
        "colab": {
          "base_uri": "https://localhost:8080/"
        },
        "id": "0AoSfu1wEcNG",
        "outputId": "4e1bf1af-6409-4219-f0c0-f493da15b56b"
      },
      "outputs": [
        {
          "name": "stdout",
          "output_type": "stream",
          "text": [
            "Desempeño en el conjunto de prueba:\n",
            "MLP -> MAE: 9.7776 , RMSE: 9.9554\n",
            "LSTM -> MAE: 9.7665 , RMSE: 9.9431\n",
            "CNN  -> MAE: 9.7883 , RMSE: 9.9663\n"
          ]
        }
      ],
      "source": [
        "# Calcular MAE y RMSE para cada modelo\n",
        "from sklearn.metrics import mean_absolute_error, mean_squared_error\n",
        "\n",
        "# Obtener predicciones en el conjunto de prueba para cada modelo\n",
        "model_mlp.eval()\n",
        "with torch.no_grad():\n",
        "    pred_test_mlp = model_mlp(X_test_tensor)\n",
        "    pred_test_mlp_orig = scaler_y.inverse_transform(pred_test_mlp.reshape(-1, 1)).flatten()  # Invertir escalado\n",
        "\n",
        "model_lstm.eval()\n",
        "with torch.no_grad():\n",
        "    pred_test_lstm = model_lstm(X_test_seq, X_test_dow)\n",
        "    pred_test_lstm_orig = scaler_y.inverse_transform(pred_test_lstm.reshape(-1, 1)).flatten()  # Invertir escalado\n",
        "\n",
        "model_cnn.eval()\n",
        "with torch.no_grad():\n",
        "    pred_test_cnn = model_cnn(X_test_cnn, X_test_dow)\n",
        "    pred_test_cnn_orig = scaler_y.inverse_transform(pred_test_cnn.reshape(-1, 1)).flatten()  # Invertir escalado\n",
        "\n",
        "# Obtener los valores reales en la escala original (invertido el escalado)\n",
        "y_test_orig = scaler_y.inverse_transform(y_test.reshape(-1, 1)).flatten()\n",
        "\n",
        "\n",
        "mae_mlp  = mean_absolute_error(y_test_orig, pred_test_mlp_orig)\n",
        "mae_lstm = mean_absolute_error(y_test_orig, pred_test_lstm_orig)\n",
        "mae_cnn  = mean_absolute_error(y_test_orig, pred_test_cnn_orig)\n",
        "# Calculate RMSE without 'squared' argument and take the square root manually\n",
        "rmse_mlp  = np.sqrt(mean_squared_error(y_test_orig, pred_test_mlp_orig))\n",
        "rmse_lstm = np.sqrt(mean_squared_error(y_test_orig, pred_test_lstm_orig))\n",
        "rmse_cnn  = np.sqrt(mean_squared_error(y_test_orig, pred_test_cnn_orig))\n",
        "\n",
        "\n",
        "print(\"Desempeño en el conjunto de prueba:\")\n",
        "print(f\"MLP -> MAE: {mae_mlp:.4f} , RMSE: {rmse_mlp:.4f}\")\n",
        "print(f\"LSTM -> MAE: {mae_lstm:.4f} , RMSE: {rmse_lstm:.4f}\")\n",
        "print(f\"CNN  -> MAE: {mae_cnn:.4f} , RMSE: {rmse_cnn:.4f}\")"
      ]
    },
    {
      "cell_type": "markdown",
      "metadata": {
        "id": "sZfryWxXE45V"
      },
      "source": [
        "## 6.1 Visualización de resultados\n",
        "Para complementar la evaluación numérica, es instructivo graficar las predicciones versus los valores reales. Esto nos permite ver cómo de cerca sigue cada modelo la serie original en el periodo de prueba."
      ]
    },
    {
      "cell_type": "code",
      "execution_count": 18,
      "metadata": {
        "colab": {
          "base_uri": "https://localhost:8080/",
          "height": 565
        },
        "id": "b1fgFjjQE-Cf",
        "outputId": "ed8bb46c-522a-4dba-bd7c-0b7c42883846"
      },
      "outputs": [
        {
          "data": {
            "image/png": "[encoded data removed]",
            "text/plain": [
              "<Figure size 1000x600 with 1 Axes>"
            ]
          },
          "metadata": {},
          "output_type": "display_data"
        }
      ],
      "source": [
        "# Assuming y_test_orig corresponds to the target variable in the test set\n",
        "# and needs to be reshaped to match the length of the test_df index:\n",
        "\n",
        "# Reshape y_test_orig to match test_df.index length\n",
        "# y_test_orig = y_test_orig[:len(test_df)] # This line is incorrect and should be removed\n",
        "# Instead, slice the test_df to match the length of y_test_orig:\n",
        "test_df = test_df[:len(y_test_orig)]\n",
        "\n",
        "# Graficar las predicciones vs reales para un subconjunto del periodo de prueba\n",
        "plt.figure(figsize=(10, 6))\n",
        "plt.plot(test_df.index, y_test_orig, label='Real', color='black')\n",
        "plt.plot(test_df.index, pred_test_mlp_orig, label='Predicción MLP', alpha=0.7)  # No need to slice here\n",
        "plt.plot(test_df.index, pred_test_lstm_orig, label='Predicción LSTM', alpha=0.7)  # No need to slice here\n",
        "plt.plot(test_df.index, pred_test_cnn_orig, label='Predicción CNN', alpha=0.7)  # No need to slice here\n",
        "plt.legend()\n",
        "plt.title('Comparación de Predicciones vs Real - Datos de Prueba')\n",
        "plt.xlabel('Fecha')\n",
        "plt.ylabel('Tasa de interés (%)')\n",
        "plt.show()"
      ]
    },
    {
      "cell_type": "markdown",
      "metadata": {
        "id": "eZQ8aKCtFJCQ"
      },
      "source": [
        "Esta gráfica mostra la curva real de la tasa en el periodo de prueba y las curvas estimadas por cada modelo. Si los modelos han aprendido bien, las curvas de predicción deberían seguir de cerca a la real. Si un modelo es deficiente, veremos su curva desviarse sistemáticamente o ser más errática."
      ]
    }
  ],
  "metadata": {
    "colab": {
      "provenance": []
    },
    "kernelspec": {
      "display_name": "ML_2",
      "language": "python",
      "name": "python3"
    },
    "language_info": {
      "codemirror_mode": {
        "name": "ipython",
        "version": 3
      },
      "file_extension": ".py",
      "mimetype": "text/x-python",
      "name": "python",
      "nbconvert_exporter": "python",
      "pygments_lexer": "ipython3",
      "version": "3.10.16"
    }
  },
  "nbformat": 4,
  "nbformat_minor": 0
}
