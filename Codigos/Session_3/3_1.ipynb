{
  "cells": [
    {
      "cell_type": "code",
      "execution_count": 1,
      "metadata": {
        "colab": {
          "base_uri": "https://localhost:8080/",
          "height": 593
        },
        "id": "_3bSMZ6Z0Kr4",
        "outputId": "edb22b6a-c1b9-40bb-a6c2-95aa79984016"
      },
      "outputs": [
        {
          "name": "stdout",
          "output_type": "stream",
          "text": [
            "Original X shape: (150, 4)\n",
            "Original y shape: (150,)\n",
            "X shape (primeras 100): (100, 4)\n",
            "y shape (primeras 100): (100,)\n",
            "Mejor precisión: 100.0\n",
            "Índice en 'alpha': 18\n",
            "Mejor alpha: 0.0037036072144288577\n"
          ]
        },
        {
          "data": {
            "image/png": "[encoded data removed]",
            "text/plain": [
              "<Figure size 640x480 with 1 Axes>"
            ]
          },
          "metadata": {},
          "output_type": "display_data"
        }
      ],
      "source": [
        "# =========================================================\n",
        "# LISTING 3-1 (CORREGIDO): IMPLEMENTACIÓN SLP (FROM SCRATCH) - IRIS\n",
        "# =========================================================\n",
        "\n",
        "import numpy as np\n",
        "from sklearn.datasets import load_iris\n",
        "from sklearn.model_selection import train_test_split\n",
        "from matplotlib import pyplot as plt\n",
        "\n",
        "# 1) Cargar dataset IRIS\n",
        "Data = load_iris()\n",
        "X = Data.data\n",
        "y = Data.target\n",
        "\n",
        "print(\"Original X shape:\", X.shape)\n",
        "print(\"Original y shape:\", y.shape)\n",
        "\n",
        "# 2) Seleccionar las primeras 100 muestras (para binario)\n",
        "X = X[:100]\n",
        "y = y[:100]\n",
        "\n",
        "print(\"X shape (primeras 100):\", X.shape)\n",
        "print(\"y shape (primeras 100):\", y.shape)\n",
        "\n",
        "# 3) Inicializar pesos y bias\n",
        "def init_(X):\n",
        "    w = np.random.random(X.shape[1])  # tantas dimensiones como columnas\n",
        "    b = np.random.random()\n",
        "    return w, b\n",
        "\n",
        "# 4) Normalización Min-Max\n",
        "def normalise(X):\n",
        "    maxv = np.max(X, axis=0)\n",
        "    minv = np.min(X, axis=0)\n",
        "    return (X - minv) / (maxv - minv)\n",
        "\n",
        "# 5) Función de activación sigmoide\n",
        "def f(x):\n",
        "    return 1 / (1 + np.exp(-x))\n",
        "\n",
        "# 6) Entrenamiento SLP\n",
        "def train(X_train, y_train, w, b, alpha):\n",
        "    \"\"\"\n",
        "    Entrena el modelo una pasada (una época) con tasa de aprendizaje alpha.\n",
        "    Retorna pesos y bias actualizados.\n",
        "    \"\"\"\n",
        "    for i in range(X_train.shape[0]):\n",
        "        x = X_train[i, :]\n",
        "        # Calcular salida\n",
        "        u = np.sum(x * w) + b\n",
        "        v = f(u)\n",
        "\n",
        "        # Comparar con threshold = 0.5\n",
        "        if v > 0.5:\n",
        "            y_pred = 1\n",
        "        else:\n",
        "            y_pred = 0\n",
        "\n",
        "        # Actualizar pesos y bias\n",
        "        w = w - alpha * (y_pred - y_train[i]) * x\n",
        "        b = b - alpha * (y_pred - y_train[i])\n",
        "\n",
        "    return w, b\n",
        "\n",
        "# 7) Testing SLP\n",
        "def test(X_test, y_test, w, b):\n",
        "    \"\"\"\n",
        "    Retorna la exactitud (accuracy) en el conjunto de prueba.\n",
        "    \"\"\"\n",
        "    tp = 0\n",
        "    fp = 0\n",
        "    tn = 0\n",
        "    fn = 0\n",
        "    for i in range(X_test.shape[0]):\n",
        "        x = X_test[i, :]\n",
        "        u = np.sum(x * w) + b\n",
        "        v = f(u)\n",
        "        if v > 0.5:\n",
        "            y_pred = 1\n",
        "        else:\n",
        "            y_pred = 0\n",
        "\n",
        "        # Contabilizar TP, TN, FP, FN\n",
        "        if (y_pred == 1 and y_test[i] == 1):\n",
        "            tp += 1\n",
        "        elif (y_pred == 0 and y_test[i] == 0):\n",
        "            tn += 1\n",
        "        elif (y_pred == 1 and y_test[i] == 0):\n",
        "            fp += 1\n",
        "        else:\n",
        "            fn += 1\n",
        "\n",
        "    accuracy = ((tp + tn) / (tp + tn + fp + fn)) * 100\n",
        "    return accuracy\n",
        "\n",
        "# 8) Preparar datos\n",
        "X_Norm = normalise(X)  # normalizamos X\n",
        "y_Norm = normalise(y)  # y pasa a [0,1], para 2 clases ~ (0 y 1)\n",
        "\n",
        "# Inicializar pesos y bias\n",
        "w, b = init_(X_Norm)\n",
        "\n",
        "# Dividir en train/test\n",
        "X_train, X_test, y_train, y_test = train_test_split(X_Norm, y_Norm, test_size=0.3)\n",
        "\n",
        "# 9) Bucle sobre alpha\n",
        "result = []\n",
        "alpha = np.linspace(0.0001, 0.1, 500)  # 500 valores de alpha\n",
        "\n",
        "for lr in alpha:\n",
        "    # Entrenamos una pasada con tasa de aprendizaje lr\n",
        "    w, b = train(X_train, y_train, w, b, lr)\n",
        "    acc = test(X_test, y_test, w, b)\n",
        "    result.append(acc)\n",
        "\n",
        "# 10) Hallar mejor alpha\n",
        "best = np.max(result)\n",
        "index = np.argmax(result)\n",
        "print(\"Mejor precisión:\", best)\n",
        "print(\"Índice en 'alpha':\", index)\n",
        "print(\"Mejor alpha:\", alpha[index])\n",
        "\n",
        "# 11) Graficar\n",
        "plt.plot(alpha, result)\n",
        "plt.xlabel('Learning Rate (alpha)')\n",
        "plt.ylabel('Accuracy (%)')\n",
        "plt.title('SLP Accuracy vs. Alpha (Iris primeras 100 muestras)')\n",
        "plt.show()\n"
      ]
    },
    {
      "cell_type": "code",
      "execution_count": 2,
      "metadata": {},
      "outputs": [
        {
          "data": {
            "text/plain": [
              "array([[5.1, 3.5, 1.4, 0.2],\n",
              "       [4.9, 3. , 1.4, 0.2],\n",
              "       [4.7, 3.2, 1.3, 0.2],\n",
              "       [4.6, 3.1, 1.5, 0.2],\n",
              "       [5. , 3.6, 1.4, 0.2],\n",
              "       [5.4, 3.9, 1.7, 0.4],\n",
              "       [4.6, 3.4, 1.4, 0.3],\n",
              "       [5. , 3.4, 1.5, 0.2],\n",
              "       [4.4, 2.9, 1.4, 0.2],\n",
              "       [4.9, 3.1, 1.5, 0.1],\n",
              "       [5.4, 3.7, 1.5, 0.2],\n",
              "       [4.8, 3.4, 1.6, 0.2],\n",
              "       [4.8, 3. , 1.4, 0.1],\n",
              "       [4.3, 3. , 1.1, 0.1],\n",
              "       [5.8, 4. , 1.2, 0.2],\n",
              "       [5.7, 4.4, 1.5, 0.4],\n",
              "       [5.4, 3.9, 1.3, 0.4],\n",
              "       [5.1, 3.5, 1.4, 0.3],\n",
              "       [5.7, 3.8, 1.7, 0.3],\n",
              "       [5.1, 3.8, 1.5, 0.3],\n",
              "       [5.4, 3.4, 1.7, 0.2],\n",
              "       [5.1, 3.7, 1.5, 0.4],\n",
              "       [4.6, 3.6, 1. , 0.2],\n",
              "       [5.1, 3.3, 1.7, 0.5],\n",
              "       [4.8, 3.4, 1.9, 0.2],\n",
              "       [5. , 3. , 1.6, 0.2],\n",
              "       [5. , 3.4, 1.6, 0.4],\n",
              "       [5.2, 3.5, 1.5, 0.2],\n",
              "       [5.2, 3.4, 1.4, 0.2],\n",
              "       [4.7, 3.2, 1.6, 0.2],\n",
              "       [4.8, 3.1, 1.6, 0.2],\n",
              "       [5.4, 3.4, 1.5, 0.4],\n",
              "       [5.2, 4.1, 1.5, 0.1],\n",
              "       [5.5, 4.2, 1.4, 0.2],\n",
              "       [4.9, 3.1, 1.5, 0.2],\n",
              "       [5. , 3.2, 1.2, 0.2],\n",
              "       [5.5, 3.5, 1.3, 0.2],\n",
              "       [4.9, 3.6, 1.4, 0.1],\n",
              "       [4.4, 3. , 1.3, 0.2],\n",
              "       [5.1, 3.4, 1.5, 0.2],\n",
              "       [5. , 3.5, 1.3, 0.3],\n",
              "       [4.5, 2.3, 1.3, 0.3],\n",
              "       [4.4, 3.2, 1.3, 0.2],\n",
              "       [5. , 3.5, 1.6, 0.6],\n",
              "       [5.1, 3.8, 1.9, 0.4],\n",
              "       [4.8, 3. , 1.4, 0.3],\n",
              "       [5.1, 3.8, 1.6, 0.2],\n",
              "       [4.6, 3.2, 1.4, 0.2],\n",
              "       [5.3, 3.7, 1.5, 0.2],\n",
              "       [5. , 3.3, 1.4, 0.2],\n",
              "       [7. , 3.2, 4.7, 1.4],\n",
              "       [6.4, 3.2, 4.5, 1.5],\n",
              "       [6.9, 3.1, 4.9, 1.5],\n",
              "       [5.5, 2.3, 4. , 1.3],\n",
              "       [6.5, 2.8, 4.6, 1.5],\n",
              "       [5.7, 2.8, 4.5, 1.3],\n",
              "       [6.3, 3.3, 4.7, 1.6],\n",
              "       [4.9, 2.4, 3.3, 1. ],\n",
              "       [6.6, 2.9, 4.6, 1.3],\n",
              "       [5.2, 2.7, 3.9, 1.4],\n",
              "       [5. , 2. , 3.5, 1. ],\n",
              "       [5.9, 3. , 4.2, 1.5],\n",
              "       [6. , 2.2, 4. , 1. ],\n",
              "       [6.1, 2.9, 4.7, 1.4],\n",
              "       [5.6, 2.9, 3.6, 1.3],\n",
              "       [6.7, 3.1, 4.4, 1.4],\n",
              "       [5.6, 3. , 4.5, 1.5],\n",
              "       [5.8, 2.7, 4.1, 1. ],\n",
              "       [6.2, 2.2, 4.5, 1.5],\n",
              "       [5.6, 2.5, 3.9, 1.1],\n",
              "       [5.9, 3.2, 4.8, 1.8],\n",
              "       [6.1, 2.8, 4. , 1.3],\n",
              "       [6.3, 2.5, 4.9, 1.5],\n",
              "       [6.1, 2.8, 4.7, 1.2],\n",
              "       [6.4, 2.9, 4.3, 1.3],\n",
              "       [6.6, 3. , 4.4, 1.4],\n",
              "       [6.8, 2.8, 4.8, 1.4],\n",
              "       [6.7, 3. , 5. , 1.7],\n",
              "       [6. , 2.9, 4.5, 1.5],\n",
              "       [5.7, 2.6, 3.5, 1. ],\n",
              "       [5.5, 2.4, 3.8, 1.1],\n",
              "       [5.5, 2.4, 3.7, 1. ],\n",
              "       [5.8, 2.7, 3.9, 1.2],\n",
              "       [6. , 2.7, 5.1, 1.6],\n",
              "       [5.4, 3. , 4.5, 1.5],\n",
              "       [6. , 3.4, 4.5, 1.6],\n",
              "       [6.7, 3.1, 4.7, 1.5],\n",
              "       [6.3, 2.3, 4.4, 1.3],\n",
              "       [5.6, 3. , 4.1, 1.3],\n",
              "       [5.5, 2.5, 4. , 1.3],\n",
              "       [5.5, 2.6, 4.4, 1.2],\n",
              "       [6.1, 3. , 4.6, 1.4],\n",
              "       [5.8, 2.6, 4. , 1.2],\n",
              "       [5. , 2.3, 3.3, 1. ],\n",
              "       [5.6, 2.7, 4.2, 1.3],\n",
              "       [5.7, 3. , 4.2, 1.2],\n",
              "       [5.7, 2.9, 4.2, 1.3],\n",
              "       [6.2, 2.9, 4.3, 1.3],\n",
              "       [5.1, 2.5, 3. , 1.1],\n",
              "       [5.7, 2.8, 4.1, 1.3]])"
            ]
          },
          "execution_count": 2,
          "metadata": {},
          "output_type": "execute_result"
        }
      ],
      "source": [
        "X"
      ]
    },
    {
      "cell_type": "code",
      "execution_count": 3,
      "metadata": {},
      "outputs": [
        {
          "data": {
            "text/plain": [
              "array([ 0.21617229, -0.01885095, -0.10159596,  0.82096143])"
            ]
          },
          "execution_count": 3,
          "metadata": {},
          "output_type": "execute_result"
        }
      ],
      "source": [
        "w"
      ]
    },
    {
      "cell_type": "code",
      "execution_count": 4,
      "metadata": {},
      "outputs": [
        {
          "data": {
            "text/plain": [
              "np.float64(-0.2726529839659403)"
            ]
          },
          "execution_count": 4,
          "metadata": {},
          "output_type": "execute_result"
        }
      ],
      "source": [
        "b"
      ]
    },
    {
      "cell_type": "code",
      "execution_count": 7,
      "metadata": {},
      "outputs": [
        {
          "data": {
            "text/plain": [
              "4"
            ]
          },
          "execution_count": 7,
          "metadata": {},
          "output_type": "execute_result"
        }
      ],
      "source": [
        "X.shape[1]"
      ]
    }
  ],
  "metadata": {
    "colab": {
      "provenance": []
    },
    "kernelspec": {
      "display_name": "ML_2",
      "language": "python",
      "name": "python3"
    },
    "language_info": {
      "codemirror_mode": {
        "name": "ipython",
        "version": 3
      },
      "file_extension": ".py",
      "mimetype": "text/x-python",
      "name": "python",
      "nbconvert_exporter": "python",
      "pygments_lexer": "ipython3",
      "version": "3.10.16"
    }
  },
  "nbformat": 4,
  "nbformat_minor": 0
}
