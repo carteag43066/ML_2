{
  "cells": [
    {
      "cell_type": "code",
      "execution_count": 1,
      "metadata": {
        "colab": {
          "base_uri": "https://localhost:8080/"
        },
        "id": "bcUCsRRXLSFV",
        "outputId": "514f9068-300a-453b-f9c6-2eb2b6d44ef7"
      },
      "outputs": [
        {
          "name": "stdout",
          "output_type": "stream",
          "text": [
            "(130, 13) (130,)\n",
            "Default MLP Accuracy:  0.9230769230769231\n",
            "Custom MLP (3 Neurons) Accuracy:  0.8076923076923077\n"
          ]
        },
        {
          "name": "stderr",
          "output_type": "stream",
          "text": [
            "c:\\Users\\aluca\\miniconda3\\envs\\ML_2\\lib\\site-packages\\sklearn\\neural_network\\_multilayer_perceptron.py:691: ConvergenceWarning: Stochastic Optimizer: Maximum iterations (200) reached and the optimization hasn't converged yet.\n",
            "  warnings.warn(\n",
            "c:\\Users\\aluca\\miniconda3\\envs\\ML_2\\lib\\site-packages\\sklearn\\neural_network\\_multilayer_perceptron.py:691: ConvergenceWarning: Stochastic Optimizer: Maximum iterations (200) reached and the optimization hasn't converged yet.\n",
            "  warnings.warn(\n"
          ]
        }
      ],
      "source": [
        "import numpy as np\n",
        "from sklearn.datasets import load_wine\n",
        "from sklearn.model_selection import train_test_split\n",
        "from sklearn.neural_network import MLPClassifier\n",
        "from sklearn.metrics import accuracy_score\n",
        "\n",
        "#1. The Wine dataset is imported from sklearn.datasets using load_wine\n",
        "#function. The MLP classifier is imported from sklearn.neural_network\n",
        "#module. Additionally, train_test_split from sklearn.model_selection to\n",
        "#split the data into train and test sets and accuracy_score from sklearn.\n",
        "#metrics to evaluate the accuracy of the model have also been imported.\n",
        "\n",
        "wine = load_wine()\n",
        "X = wine.data\n",
        "y = wine.target\n",
        "\n",
        "#2. The wine dataset is loaded using load_wine function and the first two\n",
        "#classes were selected.\n",
        "\n",
        "mask = y < 2\n",
        "X = X[mask]\n",
        "y = y[mask]\n",
        "print(X.shape, y.shape)\n",
        "\n",
        "#3. Train Test Split to split the data into train and test set\n",
        "X_train, X_test, y_train, y_test = train_test_split(X, y, test_size=0.2, random_state=42)\n",
        "\n",
        "#4.The Model 1: mlp_default is fitted with the default parameters of MLP\n",
        "#Classifier\n",
        "\n",
        "mlp_default = MLPClassifier(random_state=42)\n",
        "mlp_default.fit(X_train, y_train)\n",
        "\n",
        "#5. The Model 2: mlp_custom is fitted with the MLP Classifier having 3\n",
        "#neurons in a single hidden layer\n",
        "\n",
        "mlp_custom = MLPClassifier(hidden_layer_sizes=(3,), random_state=42)\n",
        "mlp_custom.fit(X_train, y_train)\n",
        "\n",
        "#6. Using the predictions with default MLP, the accuracy score is calculated.\n",
        "y_pred_default = mlp_default.predict(X_test)\n",
        "accuracy_default = accuracy_score(y_test, y_pred_default)\n",
        "print(\"Default MLP Accuracy: \", accuracy_default)\n",
        "\n",
        "#6. Using the predictions with custom MLP, the accuracy score is calculated.\n",
        "y_pred_custom = mlp_custom.predict(X_test)\n",
        "accuracy_custom = accuracy_score(y_test, y_pred_custom)\n",
        "print(\"Custom MLP (3 Neurons) Accuracy: \", accuracy_custom)\n"
      ]
    }
  ],
  "metadata": {
    "colab": {
      "provenance": []
    },
    "kernelspec": {
      "display_name": "ML_2",
      "language": "python",
      "name": "python3"
    },
    "language_info": {
      "codemirror_mode": {
        "name": "ipython",
        "version": 3
      },
      "file_extension": ".py",
      "mimetype": "text/x-python",
      "name": "python",
      "nbconvert_exporter": "python",
      "pygments_lexer": "ipython3",
      "version": "3.10.16"
    }
  },
  "nbformat": 4,
  "nbformat_minor": 0
}
